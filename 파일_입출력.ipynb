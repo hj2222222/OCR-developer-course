{
  "nbformat": 4,
  "nbformat_minor": 0,
  "metadata": {
    "colab": {
      "provenance": [],
      "authorship_tag": "ABX9TyO0qaghwVuRDfKFziBKZsc8",
      "include_colab_link": true
    },
    "kernelspec": {
      "name": "python3",
      "display_name": "Python 3"
    },
    "language_info": {
      "name": "python"
    }
  },
  "cells": [
    {
      "cell_type": "markdown",
      "metadata": {
        "id": "view-in-github",
        "colab_type": "text"
      },
      "source": [
        "<a href=\"https://colab.research.google.com/github/hj2222222/OCR-developer-course/blob/main/%ED%8C%8C%EC%9D%BC_%EC%9E%85%EC%B6%9C%EB%A0%A5.ipynb\" target=\"_parent\"><img src=\"https://colab.research.google.com/assets/colab-badge.svg\" alt=\"Open In Colab\"/></a>"
      ]
    },
    {
      "cell_type": "markdown",
      "source": [
        "# 목차\n",
        "\n",
        "# **1. 파일 열기**\n",
        "파일을 열려면 open 함수를 사용합니다.\n",
        "\n",
        "```\n",
        "f = open(\"파일명\", \"모드\")\n",
        "```\n",
        "\n",
        "* 파일명: 열고자 하는 파일의 이름이나 경로\n",
        "* 모드: 파일을 어떻게 열 것인지를 지정\n",
        "\n",
        "* r: 읽기 모드 (기본값)\n",
        "\n",
        "* w: 쓰기 모드 (파일이 있으면 덮어쓰기)\n",
        "\n",
        "* a: 추가 모드 (파일의 끝에 내용을 추가)\n",
        "\n",
        "* b: 바이너리 모드 (텍스트가 아닌 바이너리 데이터를 읽고/쓸 때 사용)\n",
        "\n",
        "* +: 읽기와 쓰기 모드\n",
        "\n",
        "# **2. 파일 쓰기**\n",
        "write(): 문자열을 파일에 쓴다.\n",
        "\n",
        "writelines(): 문자열 리스트를 파일에 쓴다.\n",
        "\n",
        "### close 메서드를 사용해 파일을 닫습니다. 파일을 닫지 않으면 데이터 손실이 발생할 수 있습니다.\n",
        "\n",
        "# **※ 파일 경로**\n",
        "파일 경로는 파일의 위치를 나타내는 문자열입니다. 이 경로를 통해 파이썬은 파일을 찾아서 해당 파일을 읽거나 쓸 수 있습니다. 파일 경로는 크게 상대 경로와 절대 경로 두 가지로 구분됩니다.\n",
        "\n",
        "\n",
        "\n",
        "1. 상대 경로 (Relative Path):\n",
        "\n",
        "현재 작업 디렉토리에 대한 파일의 위치를 나타냅니다.\n",
        "\n",
        "\"data.txt\": 현재 디렉토리의 data.txt 파일\n",
        "\n",
        "\"./data.txt\": 현재 디렉토리의 data.txt 파일\n",
        "\n",
        "\"subfolder/data.txt\": 현재 디렉토리의 하위 폴더 subfolder 안의 data.txt 파일\n",
        "\n",
        "\"../siblingfolder/data.txt\": 현재 디렉토리와 동일한 위치의 다른 폴더 siblingfolder 안의 data.txt 파일\n",
        "\n",
        "\n",
        "\n",
        "2. 절대 경로 (Absolute Path):\n",
        "\n",
        "파일 시스템의 루트부터의 전체 경로를 나타냅니다.\n",
        "\n",
        "예 (Windows):\n",
        "\n",
        "\"C:\\\\Users\\\\UserName\\\\Documents\\\\data.txt\"\n",
        "\n",
        "예 (Linux/Mac):\n",
        "\n",
        "\"/home/username/Documents/data.txt\"\n",
        "\n",
        "\n",
        "# **3. with 문 사용하기**\n",
        "파이썬의 with 문을 사용하면 자동으로 파일을 닫을 수 있습니다.\n",
        "\n",
        "# **4. 파일 읽기**\n",
        "* read(): 파일의 모든 내용을 문자열로 반환\n",
        "\n",
        "* readline(): 파일의 한 줄을 문자열로 반환\n",
        "\n",
        "* readlines(): 파일의 모든 줄을 리스트로 반환\n",
        "\n",
        "# **5. 예외 처리와 함께 사용하기**\n",
        "파일 입출력 중에는 여러 가지 오류가 발생할 수 있습니다 (예: 파일이 존재하지 않음). 이를 위해 try-except 블록을 사용해 오류를 처리할 수 있습니다."
      ],
      "metadata": {
        "id": "XwKC26mfWYp5"
      }
    },
    {
      "cell_type": "code",
      "source": [
        "f = open(\"example.txt\", \"w\")\n",
        "f.write(\"Hello, Python!\\n\")\n",
        "f.writelines([\"Line 1\\n\", \"Line 2\\n\"])\n",
        "f.close()"
      ],
      "metadata": {
        "id": "qB2fSOQDXTJp"
      },
      "execution_count": null,
      "outputs": []
    },
    {
      "cell_type": "code",
      "source": [
        "file = open('data.txt', 'wt')\n",
        "for i in range(10):\n",
        "    file.write('파일 열기 테스트: ' + str(i) + '\\n') # \\n: 파일 내에서 개행\n",
        "file.close()\n",
        "print('data.txt 파일에 쓰기 완료!')"
      ],
      "metadata": {
        "id": "2DKkqrl5XWm0"
      },
      "execution_count": null,
      "outputs": []
    },
    {
      "cell_type": "code",
      "source": [
        "with open('./data/word.txt', 'w') as f:\n",
        "    while True:\n",
        "        data = input('단어를 입력하세요: ')\n",
        "        if data.lower() == 'quit':\n",
        "            break\n",
        "        f.write(data + '\\n')"
      ],
      "metadata": {
        "id": "FV2rRCk6XWtU"
      },
      "execution_count": null,
      "outputs": []
    },
    {
      "cell_type": "code",
      "source": [
        "f = open(\"example.txt\", \"r\")\n",
        "content = f.read()\n",
        "print(content)\n",
        "f.close()"
      ],
      "metadata": {
        "id": "pBAEQ5CaXWwZ"
      },
      "execution_count": null,
      "outputs": []
    },
    {
      "cell_type": "code",
      "source": [
        "file = open('./data/data.txt', 'rt')\n",
        "data = file.read()\n",
        "print('data.txt 파일 전체 데이터 읽기 완료')\n",
        "print(data)\n",
        "file.close()"
      ],
      "metadata": {
        "id": "Poy8XTl9XWzo"
      },
      "execution_count": null,
      "outputs": []
    },
    {
      "cell_type": "code",
      "source": [
        "file = open('./data/data.txt', 'rt')\n",
        "data = file.read(10)\n",
        "print('data.txt 파일 일부 데이터 읽기 완료')\n",
        "print(data)\n",
        "file.close()"
      ],
      "metadata": {
        "id": "cOpEYCCZXW2y"
      },
      "execution_count": null,
      "outputs": []
    },
    {
      "cell_type": "code",
      "source": [
        "file = open('./data/data.txt', 'rt')\n",
        "while True:\n",
        "    data = file.read(10)\n",
        "    if not data:\n",
        "        break\n",
        "    print(data, end='')"
      ],
      "metadata": {
        "id": "5ubPz9oZXW51"
      },
      "execution_count": null,
      "outputs": []
    },
    {
      "cell_type": "code",
      "source": [
        "with open('./data/word.txt', 'r') as f:\n",
        "    lines = []\n",
        "    while True:\n",
        "        line = f.readline()\n",
        "        if not line:\n",
        "            break\n",
        "        if len(line.strip()) != 0:\n",
        "            print(line, end='')\n",
        "            lines.append(line.strip())\n",
        "print(lines)"
      ],
      "metadata": {
        "id": "d2M2ogrYXW9X"
      },
      "execution_count": null,
      "outputs": []
    },
    {
      "cell_type": "code",
      "source": [
        "with open('./data/word.txt', 'r') as f:\n",
        "    lines = f.readlines()\n",
        "    print(lines)\n",
        "\n",
        "for i in lines:\n",
        "    print(i, end='')"
      ],
      "metadata": {
        "id": "rR9Xl0E5XXA8"
      },
      "execution_count": null,
      "outputs": []
    },
    {
      "cell_type": "code",
      "source": [
        "try:\n",
        "    with open(\"nofile.txt\", \"r\") as f:\n",
        "        content = f.read()\n",
        "        print(content)\n",
        "except FileNotFoundError:\n",
        "    print(\"파일이 존재하지 않습니다.\")"
      ],
      "metadata": {
        "id": "OpcwNQtQXXEU"
      },
      "execution_count": null,
      "outputs": []
    }
  ]
}