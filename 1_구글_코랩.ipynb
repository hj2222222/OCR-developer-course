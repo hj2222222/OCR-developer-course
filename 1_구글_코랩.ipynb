{
  "nbformat": 4,
  "nbformat_minor": 0,
  "metadata": {
    "colab": {
      "provenance": [],
      "authorship_tag": "ABX9TyMvbXdNWQ2uQfyt7DiImq5o",
      "include_colab_link": true
    },
    "kernelspec": {
      "name": "python3",
      "display_name": "Python 3"
    },
    "language_info": {
      "name": "python"
    }
  },
  "cells": [
    {
      "cell_type": "markdown",
      "metadata": {
        "id": "view-in-github",
        "colab_type": "text"
      },
      "source": [
        "<a href=\"https://colab.research.google.com/github/hj2222222/OCR-developer-course/blob/main/1_%EA%B5%AC%EA%B8%80_%EC%BD%94%EB%9E%A9.ipynb\" target=\"_parent\"><img src=\"https://colab.research.google.com/assets/colab-badge.svg\" alt=\"Open In Colab\"/></a>"
      ]
    },
    {
      "cell_type": "markdown",
      "source": [
        "#**1. 코랩이란**\n",
        "구글 코랩(Colab)은 구글에서 제공하는 클라우드 기반의 Jupyter 노트북 환경입니다. 주로 Python 코드를 작성하고 실행하는 데 사용되며, 데이터 분석, 기계 학습, 딥러닝 등의 작업에 유용합니다\n"
      ],
      "metadata": {
        "id": "gDpviGDlEfUf"
      }
    },
    {
      "cell_type": "markdown",
      "source": [
        "###1-1. 마크다운(Markdown)\n",
        "마크다운은 일반 텍스트 기반의 경량 마크업 언어\n",
        "\n",
        "```\n",
        "1) 제목\n",
        "# 제목\n",
        "## 제목\n",
        "### 제목\n",
        "....\n",
        "###### 제목\n",
        "\n",
        "2) 강조\n",
        "볼드체 : **볼드체** 또는 __볼드체__\n",
        "이탤릭체 : *이탤릭체* 또는 _이탤릭채_\n",
        "\n",
        "3) 목록\n",
        "순서가 없는 목록 : 앞에 -, *, + 기호를 사용\n",
        "  예) * 제목\n",
        "\n",
        "순서가 있는 목록 : 숫자.(점)을 사용\n",
        "  예) 1. 제목\n",
        "\n",
        "4) 링크\n",
        "[텍스트](웹사이트주소)\n",
        "\n",
        "5) 이미지\n",
        "![텍스트](이미지 주소)\n",
        "\n",
        "6) 수평선\n",
        "3개 이상의 -, *, _ 를 연속으로 작성\n",
        "\n",
        "```\n"
      ],
      "metadata": {
        "id": "h2dX8HkQIIuc"
      }
    },
    {
      "cell_type": "markdown",
      "source": [
        "### 1-2 OS 환경"
      ],
      "metadata": {
        "id": "S0I2rLSGLF1i"
      }
    },
    {
      "cell_type": "code",
      "source": [
        "!cat /etc/issue.net"
      ],
      "metadata": {
        "colab": {
          "base_uri": "https://localhost:8080/"
        },
        "id": "qO3IISW5LJLI",
        "outputId": "27ae5c75-380e-4dbf-e042-06a8676f76b4"
      },
      "execution_count": 1,
      "outputs": [
        {
          "output_type": "stream",
          "name": "stdout",
          "text": [
            "Ubuntu 22.04.3 LTS\n"
          ]
        }
      ]
    },
    {
      "cell_type": "markdown",
      "source": [
        "### 1-3 파이썬 버전 확인"
      ],
      "metadata": {
        "id": "onLRXqRULRhg"
      }
    },
    {
      "cell_type": "code",
      "source": [
        "!python --version"
      ],
      "metadata": {
        "colab": {
          "base_uri": "https://localhost:8080/"
        },
        "id": "W6KBu9veLwSi",
        "outputId": "416bda7b-3512-4711-ff06-bcb6de2a7615"
      },
      "execution_count": 2,
      "outputs": [
        {
          "output_type": "stream",
          "name": "stdout",
          "text": [
            "Python 3.10.12\n"
          ]
        }
      ]
    },
    {
      "cell_type": "markdown",
      "source": [
        "# **2. 셀의 종류**\n",
        "\n",
        "* 코드 : 파이썬 코드 및 리눅스 명령어를 실행할 수 있는 셀\n",
        "* 텍스트 : 설명을 달거나 문구 등을 적기 위한 텍스트 전용 셀(마크다운 사용)\n"
      ],
      "metadata": {
        "id": "V4f0XpucL15R"
      }
    },
    {
      "cell_type": "markdown",
      "source": [
        "### 2-1 셀의 삽입 방법\n",
        "* 상단의 +코드 혹은 +텍스트 버튼을 눌러 삽입함\n",
        "* 코드셀 상단 삽입 : 컨트롤 + m + a\n",
        "* 코드셀 하단 삽입 : 컨트롤 + m + b\n"
      ],
      "metadata": {
        "id": "u04B6d6fNwgW"
      }
    },
    {
      "cell_type": "markdown",
      "source": [
        "### 2-2 셀을 변경하는 방법\n",
        "* 코드셀을 텍스트셀로 변경 : 컨트롤 + m + m\n",
        "* 텍스트셀을 코드셀로 변경 : 컨트롤 + m + y"
      ],
      "metadata": {
        "id": "QDxUYF6pOuIr"
      }
    },
    {
      "cell_type": "markdown",
      "source": [
        "### 2-3 셀을 삭제하는 방법\n",
        "* 휴지통을 눌러 삭제\n",
        "* 셀을 삭제하는 방법 : 컨트롤 + m + d\n"
      ],
      "metadata": {
        "id": "zdrf3sDIO6wp"
      }
    },
    {
      "cell_type": "markdown",
      "source": [
        "# **3. 셀의 실행**\n",
        "* 컨트롤 + 엔터 : 해당 셀 실행후 커서는 해당 셀에 남음\n",
        "* 쉬프트 + 엔터 : 해당 셀을 실행하고 다음 셀로 넘어감\n",
        "* 알트 + 엔터 : 해당 셀을 실행하고 커서는 다음 셀로 삽입후 넘어감"
      ],
      "metadata": {
        "id": "ERwra1sKPReb"
      }
    },
    {
      "cell_type": "code",
      "source": [
        "print('안녕하세요~^^')"
      ],
      "metadata": {
        "colab": {
          "base_uri": "https://localhost:8080/"
        },
        "id": "GGiWbplFPzCH",
        "outputId": "684850d6-0ede-4800-a5c7-0fd4c7025ee1"
      },
      "execution_count": 3,
      "outputs": [
        {
          "output_type": "stream",
          "name": "stdout",
          "text": [
            "안녕하세요~^^\n"
          ]
        }
      ]
    },
    {
      "cell_type": "markdown",
      "source": [
        "# **4. 셀의 실행 취소**\n",
        "* 컨트롤 + m + z: 실행한 내용을 취소"
      ],
      "metadata": {
        "id": "E7QlnpKKP8as"
      }
    },
    {
      "cell_type": "markdown",
      "source": [
        "# 도움되는 사이트\n",
        "* [점프투 파이썬](https://wikidocs.net/book/1)\n",
        "* [TCP](https://www.tcpschool.com/)\n",
        "* [W_school](https://www.w3schools.com/)"
      ],
      "metadata": {
        "id": "O3SYfdPaRh9t"
      }
    },
    {
      "cell_type": "code",
      "source": [],
      "metadata": {
        "id": "p6CChLvPSGd-"
      },
      "execution_count": null,
      "outputs": []
    }
  ]
}