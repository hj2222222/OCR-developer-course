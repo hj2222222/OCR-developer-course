{
  "nbformat": 4,
  "nbformat_minor": 0,
  "metadata": {
    "colab": {
      "provenance": [],
      "authorship_tag": "ABX9TyPhBz/H/8QTJ01p9jyF60ef",
      "include_colab_link": true
    },
    "kernelspec": {
      "name": "python3",
      "display_name": "Python 3"
    },
    "language_info": {
      "name": "python"
    }
  },
  "cells": [
    {
      "cell_type": "markdown",
      "metadata": {
        "id": "view-in-github",
        "colab_type": "text"
      },
      "source": [
        "<a href=\"https://colab.research.google.com/github/hj2222222/OCR-developer-course/blob/main/%ED%8C%8C%EC%9D%B4%EC%8D%AC_%EC%B6%9C%EB%A0%A5.ipynb\" target=\"_parent\"><img src=\"https://colab.research.google.com/assets/colab-badge.svg\" alt=\"Open In Colab\"/></a>"
      ]
    },
    {
      "cell_type": "markdown",
      "source": [
        "3.12.11\n",
        "* 3 -> 크게 역변했을때 문법이 바뀌거나 등등\n",
        "* 12 -> 3점대에서의 기능 변화 (추가 혹은 삭제)\n",
        "*11 -> 자잘한 버그 패치\n",
        "\n",
        "앞의 숫자일 수록 규모가 큰 것"
      ],
      "metadata": {
        "id": "KnSo-Oze8ZUK"
      }
    },
    {
      "cell_type": "markdown",
      "source": [
        "# **1. print 함수**\n",
        "print() 함수는 파이썬의 기본 출력 함수로, 터미널이나 콘솔 창에 텍스트나 데이터를 출력하기 위해 사용됩니다.\n",
        "```\n",
        "print(값1, 값2, ..., sep='구분자', end='끝 문자')\n",
        "```\n",
        "* 값1, 값2, ... : 출력하고 싶은 값을 쉼표(,)로 구분하여 나열합니다.\n",
        "* sep : 값들 사이에 들어갈 구분자를 지정합니다. 기본값은 공백(' ')입니다.\n",
        "* end : 모든 값들이 출력된 후 마지막에 출력될 문자를 지정합니다. 기본값은 줄바꿈('\\n')입니다."
      ],
      "metadata": {
        "id": "jN4UfIF-CjHw"
      }
    },
    {
      "cell_type": "code",
      "source": [
        "print('안녕하세요 파이썬')\n",
        "print(\"안녕하세요 파이썬\")\n",
        "print(10)\n",
        "print('10')\n",
        "print(10, 20, 30, 40)\n",
        "print('안녕하세요','파이썬')"
      ],
      "metadata": {
        "colab": {
          "base_uri": "https://localhost:8080/"
        },
        "id": "87cdIKABIokW",
        "outputId": "7ede86ea-9250-4486-ef68-ca4b40471dfb"
      },
      "execution_count": null,
      "outputs": [
        {
          "output_type": "stream",
          "name": "stdout",
          "text": [
            "안녕하세요 파이썬\n",
            "안녕하세요 파이썬\n",
            "10\n",
            "10\n",
            "10 20 30 40\n",
            "안녕하세요 파이썬\n"
          ]
        }
      ]
    },
    {
      "cell_type": "code",
      "source": [
        "print('안녕하세요','파이썬', sep = '😊')\n",
        "print('안녕하세요','파이썬', end = '')\n",
        "print('hello')\n",
        "print('python')\n",
        "print('hello',end='❤️')\n",
        "print('hello')"
      ],
      "metadata": {
        "colab": {
          "base_uri": "https://localhost:8080/"
        },
        "id": "Y03dN-dIJZwQ",
        "outputId": "d7de0e38-97c6-4e1c-d464-fe31e4f1691c"
      },
      "execution_count": null,
      "outputs": [
        {
          "output_type": "stream",
          "name": "stdout",
          "text": [
            "안녕하세요😊파이썬\n",
            "안녕하세요 파이썬hello\n",
            "python\n",
            "hello❤️hello\n"
          ]
        }
      ]
    },
    {
      "cell_type": "markdown",
      "source": [
        "# **2. 파이썬의 escape 문자**\n",
        "파이썬에서 이스케이프 문자는 문자열 안에서 특별한 의미를 가지는 문자들을 나타내기 위해 사용됩니다. 이스케이프 문자는 백슬래시(\\\\)로 시작하며, 문자열 내에서 특정한 동작이나 특수 문자를 표현하기 위해 사용됩니다.\n",
        "1. \\n: 줄바꿈을 나타냅니다.\n",
        "2. \\t: 탭 문자를 나타냅니다.\n",
        "3. \\\\: 백슬래시 자체를 나타냅니다.\n",
        "4. \\\" 또는 \\': 큰따옴표나 작은따옴표를 나타냅니다. 문자열을 감싸는 따옴표와 구분하기 위해 사용됩니다.\n",
        "5. \\r: 캐리지 리턴을 나타냅니다. 문자열을 출력한 후 커서를 줄의 처음으로 이동시킵니다.\n",
        "6. \\b: 백스페이스를 나타냅니다. 문자열 내에서 한 글자를 삭제합니다"
      ],
      "metadata": {
        "id": "8Yj7GVWVOto5"
      }
    },
    {
      "cell_type": "code",
      "source": [
        "print(\"Hello\\nPython!\")\n",
        "print(\"Name:\\t김사과\")\n",
        "print(\"파이썬은 너무 재밌네: \\\\\")\n",
        "print(\"여러분, \\\"안녕하세요!\\\"\")\n",
        "print(\"\\\"안녕하세요\\\"\")"
      ],
      "metadata": {
        "colab": {
          "base_uri": "https://localhost:8080/"
        },
        "id": "eV4CICaNQRhD",
        "outputId": "f767bbd3-b22e-42d1-b93d-05ff661c2b4e"
      },
      "execution_count": null,
      "outputs": [
        {
          "output_type": "stream",
          "name": "stdout",
          "text": [
            "Hello\n",
            "Python!\n",
            "Name:\t김사과\n",
            "파이썬은 너무 재밌네: \\\n",
            "여러분, \"안녕하세요!\"\n",
            "\"안녕하세요\"\n"
          ]
        }
      ]
    },
    {
      "cell_type": "markdown",
      "source": [
        "# **3 프린트 함수 내의 연산**\n",
        "print() 함수는 문자열뿐만 아니라 숫자와 연산 결과도 출력할 수 있습니다."
      ],
      "metadata": {
        "id": "Sr5jcj--QZIW"
      }
    },
    {
      "cell_type": "code",
      "source": [
        "print(\"덧셈:\", 10 + 3)\n",
        "print(\"뺄셈:\", 10 - 3)\n",
        "print(\"곱셈:\", 10 * 3)\n",
        "print(\"나눗셈:\", 10 / 3) # (실)\n",
        "print(\"정수 나눗셈:\", 10 // 3) #몫 (정수)\n",
        "print(\"나머지:\", 10 % 3) # 나머지 (정수)\n",
        "print(\"거듭제곱:\", 10 ** 3) #제곱 (정수)"
      ],
      "metadata": {
        "colab": {
          "base_uri": "https://localhost:8080/"
        },
        "id": "RBVEwhA8SVlW",
        "outputId": "8a467a63-dbe9-43a0-9d79-35d3169904e9"
      },
      "execution_count": null,
      "outputs": [
        {
          "output_type": "stream",
          "name": "stdout",
          "text": [
            "덧셈: 13\n",
            "뺄셈: 7\n",
            "곱셈: 30\n",
            "나눗셈: 3.3333333333333335\n",
            "정수 나눗셈: 3\n",
            "나머지: 1\n",
            "거듭제곱: 1000\n"
          ]
        }
      ]
    },
    {
      "cell_type": "markdown",
      "source": [
        "# **4.출력 서식 지정**\n",
        "파이썬의 print() 함수는 출력 서식을 지정하여 값을 형식화하고 출력하는 기능을 제공합니다. 서식 지정자와 함께 사용되는 % 연산자와 format() 메서드를 사용하여 원하는 형식으로 출력할 수 있습니다.\n",
        "\n",
        "1. % 연산자를 사용하여 출력 서식을 지정\n",
        "\n",
        "* %s: 문자열을 출력합니다.\n",
        "* %d: 정수를 출력합니다.\n",
        "* %.nf: 소수점 이하 n자리까지 출력합니다."
      ],
      "metadata": {
        "id": "mvFZxchQSW-C"
      }
    },
    {
      "cell_type": "code",
      "source": [
        "print('정수: %d' % 100)\n",
        "print(f'정수: {100}') # f-string\n",
        "print('정수: %d' % 100.5)\n",
        "print('실수: %f' % 100.5)\n",
        "print('실수: %f' % 100)\n",
        "print('문자열: %s' % 'Python')\n",
        "print('문자열: %s' % 100)\n",
        "\n",
        "print('5 + 3 = 8')\n",
        "print('%d + %d = %d' % (5, 3, 5+3))\n",
        "\n",
        "str = \"OCR\"\n",
        "print(f'정수: {100} 문자열 : {str}')"
      ],
      "metadata": {
        "colab": {
          "base_uri": "https://localhost:8080/"
        },
        "id": "1u5LClpCSibd",
        "outputId": "239f05b7-4d42-4202-edf4-158825278802"
      },
      "execution_count": null,
      "outputs": [
        {
          "output_type": "stream",
          "name": "stdout",
          "text": [
            "정수: 100\n",
            "정수: 100\n",
            "정수: 100\n",
            "실수: 100.500000\n",
            "실수: 100.000000\n",
            "문자열: Python\n",
            "문자열: 100\n",
            "5 + 3 = 8\n",
            "5 + 3 = 8\n",
            "정수: 100 문자열 : OCR\n"
          ]
        }
      ]
    },
    {
      "cell_type": "markdown",
      "source": [
        "2. format() 메서드를 사용하여 출력 서식을 지정\n",
        "\n",
        "* {}: 중괄호 안에 변수나 표현식을 넣어 값을 출력합니다.\n",
        "* {:d}: 정수를 출력합니다.\n",
        "* {:f}: 부동 소수점 숫자를 출력합니다.\n",
        "* {:s}: 문자열을 출력합니다.\n",
        "* {:x}: 정수를 16진수로 출력합니다.\n",
        "* {:0n}: n 자리의 정수를 0으로 채워서 출력합니다.\n",
        "* {:n.mf}: 전체 길이 n과 소수점 이하 자리수 m을 지정하여 부동 소수점 숫자를 출력합니다."
      ],
      "metadata": {
        "id": "dr1yCBEgSkZ-"
      }
    },
    {
      "cell_type": "code",
      "source": [
        "print(\"이름: %s, 나이: %d\" % ('김사과', 20))\n",
        "print(\"몸무게: %.2f\" % 50.12345)\n",
        "print('내친구: {} {}'.format('오렌지', '반하나'))"
      ],
      "metadata": {
        "colab": {
          "base_uri": "https://localhost:8080/"
        },
        "id": "5w1dybITSxhL",
        "outputId": "4b29ab66-344d-41b9-faa9-ff3b50002f11"
      },
      "execution_count": null,
      "outputs": [
        {
          "output_type": "stream",
          "name": "stdout",
          "text": [
            "이름: 김사과, 나이: 20\n",
            "몸무게: 50.12\n",
            "내친구: 오렌지 반하나\n"
          ]
        }
      ]
    },
    {
      "cell_type": "markdown",
      "source": [
        "# **5. 주석문**\n",
        "파이썬 주석은 코드 내에 프로그래머가 작성한 설명이나 메모를 포함하는데 사용됩니다. 주석은 코드를 이해하고 다른 개발자와 협업하는 데 도움이 되며, 코드의 기능과 목적을 명확하게 설명할 수 있습니다. 주석은 프로그램 실행 중에 무시되므로 코드 실행에 영향을 미치지 않습니다.\n",
        "\n",
        "\n",
        "\n",
        "* 한 줄 주석: 코드 한 줄에서 주석을 작성하는 것입니다. # 기호를 사용하여 주석을 시작합니다. # 다음에 작성된 내용은 그 줄에서 끝까지 주석으로 처리됩니다.\n",
        "* 여러 줄 주석: 여러 줄에 걸쳐 주석을 작성하는 것입니다. 여러 줄 주석은 큰따옴표 세 개(\"\"\") 또는 작은따옴표 세 개(''') 사이에 작성됩니다."
      ],
      "metadata": {
        "id": "sozV0Yg9Sy_R"
      }
    },
    {
      "cell_type": "code",
      "source": [
        "print('파이썬 출력하기') # 문자열 출력은 작은따옴표 '' 또는 큰따옴표 \"\"를 사용함\n",
        "\n",
        "\"\"\"\n",
        "이것은 여러 줄 주석입니다.\n",
        "여러 줄 주석은 큰따옴표 세 개 또는 작은따옴표 세 개 사이에 작성됩니다.\n",
        "여러 줄에 걸쳐 설명을 적을 수 있습니다.\n",
        "\"\"\"\n",
        "print(\"파이썬 출력하기!\")"
      ],
      "metadata": {
        "colab": {
          "base_uri": "https://localhost:8080/"
        },
        "id": "l1S9eiFfeY7g",
        "outputId": "fa1ce297-69aa-491b-9e14-14d30d5a72e9"
      },
      "execution_count": null,
      "outputs": [
        {
          "output_type": "stream",
          "name": "stdout",
          "text": [
            "파이썬 출력하기\n",
            "파이썬 출력하기!\n"
          ]
        }
      ]
    },
    {
      "cell_type": "code",
      "source": [],
      "metadata": {
        "id": "4QA7_4cdenvw"
      },
      "execution_count": null,
      "outputs": []
    }
  ]
}