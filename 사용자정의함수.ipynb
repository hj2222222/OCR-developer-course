{
  "nbformat": 4,
  "nbformat_minor": 0,
  "metadata": {
    "colab": {
      "provenance": [],
      "authorship_tag": "ABX9TyNtE0HOLjas58Djgi9AxG+t",
      "include_colab_link": true
    },
    "kernelspec": {
      "name": "python3",
      "display_name": "Python 3"
    },
    "language_info": {
      "name": "python"
    }
  },
  "cells": [
    {
      "cell_type": "markdown",
      "metadata": {
        "id": "view-in-github",
        "colab_type": "text"
      },
      "source": [
        "<a href=\"https://colab.research.google.com/github/hj2222222/OCR-developer-course/blob/main/%EC%82%AC%EC%9A%A9%EC%9E%90%EC%A0%95%EC%9D%98%ED%95%A8%EC%88%98.ipynb\" target=\"_parent\"><img src=\"https://colab.research.google.com/assets/colab-badge.svg\" alt=\"Open In Colab\"/></a>"
      ]
    },
    {
      "cell_type": "markdown",
      "source": [
        "# **1. 사용자 정의 함수**\n",
        "사용자 정의 함수란 사용자가 특정 작업을 수행하기 위해 직접 작성한 함수를 의미합니다. 파이썬에는 많은 내장 함수들이 있지만, 때로는 우리의 요구사항에 맞게 동작하는 함수를 직접 만들어야 할 때가 있습니다. 이때 사용자 정의 함수를 작성하게 됩니다. 기본적인 구조는 아래와 같습니다.\n",
        "\n",
        "```\n",
        "def 함수명(매개변수1, 매개변수2, ...):\n",
        "    # 함수 내용\n",
        "    return 결과값\n",
        "```\n",
        "\n",
        "# **2. 매개변수와 반환 값이 없는 함수**\n",
        "\n",
        "# **3. 매개변수가 있고 반환 값이 없는 함수**\n",
        "\n",
        "# **4. 반환 값이 있는 함수**\n",
        "\n",
        "# **5. 기본값이 설정된 매개변수**\n",
        "\n",
        "# **6. 가변 매개변수**\n",
        "함수를 호출할 때 *를 사용하면 시퀀스(리스트, 튜플 등)의 요소를 개별적인 위치 인자로 풀어서 전달할 수 있습니다.\n",
        "\n",
        "# **7. 키워드 매개변수**\n",
        "\n",
        "# **8. 여러개의 반환 값**\n",
        "\n",
        "\n",
        "\n"
      ],
      "metadata": {
        "id": "z4oJBJoBd824"
      }
    },
    {
      "cell_type": "code",
      "source": [
        "def func1():\n",
        "    print('처음으로 만드는 함수!')\n",
        "\n",
        "func1()\n",
        "func1()\n",
        "\n",
        "for i in range(5):\n",
        "    func1()"
      ],
      "metadata": {
        "colab": {
          "base_uri": "https://localhost:8080/"
        },
        "id": "qy42ry4ze8rv",
        "outputId": "fee9e50b-8661-4fc6-bcf3-59400af888ab"
      },
      "execution_count": 9,
      "outputs": [
        {
          "output_type": "stream",
          "name": "stdout",
          "text": [
            "처음으로 만드는 함수!\n",
            "처음으로 만드는 함수!\n",
            "처음으로 만드는 함수!\n",
            "처음으로 만드는 함수!\n",
            "처음으로 만드는 함수!\n",
            "처음으로 만드는 함수!\n",
            "처음으로 만드는 함수!\n"
          ]
        }
      ]
    },
    {
      "cell_type": "code",
      "source": [
        "def func2(num):\n",
        "    print(f'입력받은 숫자: {num}')\n",
        "\n",
        "func2(10)\n",
        "func2(4)"
      ],
      "metadata": {
        "colab": {
          "base_uri": "https://localhost:8080/"
        },
        "id": "MhcYSbcWe-R5",
        "outputId": "e8fd6178-b883-476a-f528-a0e4689a8eee"
      },
      "execution_count": 10,
      "outputs": [
        {
          "output_type": "stream",
          "name": "stdout",
          "text": [
            "입력받은 숫자: 10\n",
            "입력받은 숫자: 4\n"
          ]
        }
      ]
    },
    {
      "cell_type": "code",
      "source": [
        "def func3(start, end):\n",
        "    sum = 0\n",
        "    for i in range(start, end+1):\n",
        "        sum += i\n",
        "    print(f'{start}부터 {end}까지의 합: {sum}')\n",
        "\n",
        "func3(1, 10)\n",
        "func3(1, 100)"
      ],
      "metadata": {
        "colab": {
          "base_uri": "https://localhost:8080/"
        },
        "id": "vlnJwgyRe-Pg",
        "outputId": "929e0335-238b-457f-c6a5-e5503d99aef4"
      },
      "execution_count": 11,
      "outputs": [
        {
          "output_type": "stream",
          "name": "stdout",
          "text": [
            "1부터 10까지의 합: 55\n",
            "1부터 100까지의 합: 5050\n"
          ]
        }
      ]
    },
    {
      "cell_type": "code",
      "source": [
        "def func4():\n",
        "    print('안녕하세요 Python!')\n",
        "\n",
        "a = func4() # 리턴이 없으므로 실행한걸 변수설정하면 안됌\n",
        "a = func4 #실행한것이 아닌 함수이름을 변수로 설정해줘야함\n",
        "print(f'a에 저장된 값: {a}') # 저장된값이 없다고 나온다 이유는 리턴값이 없기때문에 print랑 값을 배출하는 리턴은 엄연히 다름"
      ],
      "metadata": {
        "colab": {
          "base_uri": "https://localhost:8080/"
        },
        "id": "hV8Z2Trge-MY",
        "outputId": "dd58e82a-ad22-4f90-e401-dd656293f2ff"
      },
      "execution_count": 12,
      "outputs": [
        {
          "output_type": "stream",
          "name": "stdout",
          "text": [
            "안녕하세요 Python!\n",
            "a에 저장된 값: None\n"
          ]
        }
      ]
    },
    {
      "cell_type": "code",
      "source": [
        "def func5():\n",
        "    return '🎁'\n",
        "\n",
        "presents = func5()\n",
        "print(f'presents에 저장된 값: {presents}') #리턴이 있기 때문에 리턴값이 저장됌"
      ],
      "metadata": {
        "colab": {
          "base_uri": "https://localhost:8080/"
        },
        "id": "dhNSAx4ue-Hh",
        "outputId": "94b43937-290e-4b09-f664-0109673f02e8"
      },
      "execution_count": 13,
      "outputs": [
        {
          "output_type": "stream",
          "name": "stdout",
          "text": [
            "presents에 저장된 값: 🎁\n"
          ]
        }
      ]
    },
    {
      "cell_type": "code",
      "source": [
        "def func6(num1, num2):\n",
        "    sum = num1 + num2\n",
        "    return sum\n",
        "\n",
        "# result = func6(10) # TypeError: func6() missing 1 required positional argument: 'num2'\n",
        "# print(result)\n",
        "\n",
        "result = func6(10, 5)\n",
        "print(result)\n",
        "# print(sum)\n",
        "# print(num1)\n",
        "# print(num2)"
      ],
      "metadata": {
        "colab": {
          "base_uri": "https://localhost:8080/"
        },
        "id": "G7nsbrYze9_Q",
        "outputId": "0bdfb02b-095b-486e-9c28-1c46d589c026"
      },
      "execution_count": 14,
      "outputs": [
        {
          "output_type": "stream",
          "name": "stdout",
          "text": [
            "15\n"
          ]
        }
      ]
    },
    {
      "cell_type": "code",
      "source": [
        "def func6(num1=1, num2=1):\n",
        "    sum = num1 + num2\n",
        "    return sum\n",
        "\n",
        "print(func6())\n",
        "\n",
        "print(func6(10, 5))\n",
        "print(func6(num2=10))\n",
        "result = func6(7, 3)\n",
        "print(result)"
      ],
      "metadata": {
        "colab": {
          "base_uri": "https://localhost:8080/"
        },
        "id": "5_YRLCYXgdCB",
        "outputId": "f08293b1-406d-45a6-9790-3f873e3872e4"
      },
      "execution_count": 15,
      "outputs": [
        {
          "output_type": "stream",
          "name": "stdout",
          "text": [
            "2\n",
            "15\n",
            "10\n"
          ]
        }
      ]
    },
    {
      "cell_type": "code",
      "source": [
        "# 함수 내부에서는 매개변수를 튜플로 처리\n",
        "def func7(*args):\n",
        "    result = 0\n",
        "    # print(args)\n",
        "    for i in args:\n",
        "        result += i\n",
        "    return result\n",
        "\n",
        "print(func7())\n",
        "print(func7(10, 30, 20, 70))\n",
        "print(func7(10))"
      ],
      "metadata": {
        "colab": {
          "base_uri": "https://localhost:8080/"
        },
        "id": "scWmIeGugdAA",
        "outputId": "a94ce6ff-d313-4072-d672-74bebeaf1858"
      },
      "execution_count": 1,
      "outputs": [
        {
          "output_type": "stream",
          "name": "stdout",
          "text": [
            "0\n",
            "130\n",
            "10\n"
          ]
        }
      ]
    },
    {
      "cell_type": "code",
      "source": [
        "def add(a, b, c):\n",
        "    return a + b + c\n",
        "\n",
        "numbers = [1, 2, 3]\n",
        "print(add(*numbers))  # 출력: 6"
      ],
      "metadata": {
        "colab": {
          "base_uri": "https://localhost:8080/"
        },
        "id": "71m8Wzy2gc9n",
        "outputId": "7f9b5c5d-2ee3-4543-f737-edae79792190"
      },
      "execution_count": 17,
      "outputs": [
        {
          "output_type": "stream",
          "name": "stdout",
          "text": [
            "6\n"
          ]
        }
      ]
    },
    {
      "cell_type": "code",
      "source": [
        "def func8(id, name, age):\n",
        "    print(f'아이디: {id}')\n",
        "    print(f'이름: {name}')\n",
        "    print(f'나이: {age}')\n",
        "\n",
        "# 매개변수명과 딕셔너리의 키가 같아야함 이름에 맞추어서 밸류를 전달\n",
        "# 딕셔너리의 키는 반드시 문자열 형태\n",
        "dic1 = {'id':'apple', 'name':'김사과', 'age':20}\n",
        "\n",
        "func8(**dic1)\n",
        "\n",
        "# *의 데이터를 보낼 경우 키가 저장 순서에 따라서 키만 전달\n",
        "func8(*dic1)"
      ],
      "metadata": {
        "colab": {
          "base_uri": "https://localhost:8080/"
        },
        "id": "dUxSBqe3e9x1",
        "outputId": "552b7e26-34dd-4f5b-e247-29969f253a75"
      },
      "execution_count": 18,
      "outputs": [
        {
          "output_type": "stream",
          "name": "stdout",
          "text": [
            "아이디: apple\n",
            "이름: 김사과\n",
            "나이: 20\n",
            "아이디: id\n",
            "이름: name\n",
            "나이: age\n"
          ]
        }
      ]
    },
    {
      "cell_type": "code",
      "source": [
        "def func9(**args):\n",
        "    # print(args)\n",
        "    for i in args:\n",
        "        if i == 'id':\n",
        "            id = args[i]\n",
        "    return id\n",
        "\n",
        "user = func9(id='apple', name='김사과', age=20)\n",
        "print(user)"
      ],
      "metadata": {
        "colab": {
          "base_uri": "https://localhost:8080/"
        },
        "id": "o30LUkKqglJh",
        "outputId": "8ba4ad59-52a9-45e1-9822-ac497bd73c86"
      },
      "execution_count": 19,
      "outputs": [
        {
          "output_type": "stream",
          "name": "stdout",
          "text": [
            "apple\n"
          ]
        }
      ]
    },
    {
      "cell_type": "code",
      "source": [
        "def func10(num1, num2):\n",
        "    return num1 + num2, num1 - num2, num1 * num2, num1 / num2\n",
        "\n",
        "result1, result2, result3, result4 = func10(10, 3)\n",
        "\n",
        "print(f'덧셈: {result1}, 뺄셈: {result2}, 곱셈: {result3}, 나눗셈: {result4}')\n",
        "\n",
        "_, _, result3, _ = func10(10, 3) # 곱셈의 결과만 필요할 때           리턴값을 수만킄 준비하여 각각의 변수에 분배함.\n",
        "print(result3)"
      ],
      "metadata": {
        "colab": {
          "base_uri": "https://localhost:8080/"
        },
        "id": "Qlqdfns3gk1L",
        "outputId": "ca64fd05-8638-49c4-d734-d20e26914f96"
      },
      "execution_count": 20,
      "outputs": [
        {
          "output_type": "stream",
          "name": "stdout",
          "text": [
            "덧셈: 13, 뺄셈: 7, 곱셈: 30, 나눗셈: 3.3333333333333335\n",
            "30\n"
          ]
        }
      ]
    },
    {
      "cell_type": "markdown",
      "source": [
        "# **※ None의 특징**\n",
        "None은 파이썬에서 특별한 값으로, 아무런 값이 없음을 표현하는 데 사용됩니다. 다른 언어에서의 null 또는 nil과 유사한 개념입니다.\n",
        "\n",
        "None은 파이썬의 내장 상수이며, 그 자체로 데이터 타입이 NoneType입니다. 모든 None은 동일하므로, 두 개의 None 값을 비교할 때 항상 True를 반환합니다.\n",
        "\n",
        "1. 기본 초기값 설정: 변수를 초기화할 때 아무런 값이 할당되지 않았음을 나타내기 위해 None을 사용할 수 있습니다.\n",
        "```\n",
        "variable = None\n",
        "```\n",
        "\n",
        "2. 함수의 반환 값으로 사용: 함수에서 특정 조건에서 아무런 값도 반환하지 않아야 할 때 None을 사용합니다. 사실, 함수에서 return 문이 생략되거나 없으면 기본적으로 None을 반환합니다.\n",
        "\n",
        "3. 선택적 매개변수의 기본값: 함수의 매개변수에 기본값으로 None을 할당하여 선택적으로 인자를 전달받을 수 있게 만들 수 있습니다.\n",
        "\n",
        "4. 값의 존재 여부 확인: None을 사용하여 값의 존재 여부를 확인할 수 있습니다.\n",
        "* None을 검사할 때는 == 대신 is 연산자를 사용하는 것이 좋습니다. is는 객체의 동일성을 검사하는 반면, ==는 객체의 동등성을 검사하기 때문입니다.\n",
        "\n"
      ],
      "metadata": {
        "id": "Ta1DQJmQe9vf"
      }
    },
    {
      "cell_type": "code",
      "source": [
        "variable = None"
      ],
      "metadata": {
        "id": "MRU6Z-P9gDbW"
      },
      "execution_count": 3,
      "outputs": []
    },
    {
      "cell_type": "code",
      "source": [
        "def my_function(x):\n",
        "    if x > 10:\n",
        "        return x\n",
        "    # x가 10 이하일 때는 아무런 값도 반환하지 않습니다. 실제로는 None이 반환됩니다."
      ],
      "metadata": {
        "id": "A05Kyb-vgDhj"
      },
      "execution_count": 4,
      "outputs": []
    },
    {
      "cell_type": "code",
      "source": [
        "def hello(message=None):\n",
        "    if message is None:\n",
        "        print(\"Hello!\")\n",
        "    else:\n",
        "        print(message)"
      ],
      "metadata": {
        "id": "sn5A_OizgDmQ"
      },
      "execution_count": 5,
      "outputs": []
    },
    {
      "cell_type": "code",
      "source": [
        "# 값의 존재 여부 확인\n",
        "def get_data_from_database():\n",
        "    pass\n",
        "\n",
        "data = get_data_from_database()\n",
        "print(data)\n",
        "if data is None:\n",
        "    print('데이터를 수신하지 못함!')\n",
        "else:\n",
        "    print('데이터를 수신받음!')"
      ],
      "metadata": {
        "colab": {
          "base_uri": "https://localhost:8080/"
        },
        "id": "z2QtqUpGgK6n",
        "outputId": "c04f50d7-dbfb-484b-a544-c75786ef50a6"
      },
      "execution_count": 6,
      "outputs": [
        {
          "output_type": "stream",
          "name": "stdout",
          "text": [
            "None\n",
            "데이터를 수신하지 못함!\n"
          ]
        }
      ]
    },
    {
      "cell_type": "code",
      "source": [
        "x = None\n",
        "\n",
        "# 이렇게 검사하는 것이 좋습니다.\n",
        "if x is None:\n",
        "    pass\n",
        "\n",
        "# 이렇게 검사하는 것은 권장되지 않습니다.\n",
        "if x == None:\n",
        "    pass"
      ],
      "metadata": {
        "id": "Jt_pGO3NgK2p"
      },
      "execution_count": 7,
      "outputs": []
    },
    {
      "cell_type": "code",
      "source": [
        "li1 = [1, 2, 3, 4, 5]\n",
        "li2 = [1, 2, 3, 4, 5]\n",
        "\n",
        "# 객체 비교\n",
        "result1 = li1 is li2\n",
        "# 값 비교\n",
        "result2 = li1 == li2\n",
        "\n",
        "print(result1)\n",
        "print(result2)"
      ],
      "metadata": {
        "colab": {
          "base_uri": "https://localhost:8080/"
        },
        "id": "ycZkFNqEgQN1",
        "outputId": "3c98c0fe-d05f-4196-a0ff-47e66d1c8512"
      },
      "execution_count": 8,
      "outputs": [
        {
          "output_type": "stream",
          "name": "stdout",
          "text": [
            "False\n",
            "True\n"
          ]
        }
      ]
    },
    {
      "cell_type": "markdown",
      "source": [
        "# **※ 파이썬 함수와 메모리**\n",
        "1. 메모리 로드\n",
        "\n",
        "함수 정의: 파이썬에서 함수는 객체로 취급됩니다. 따라서 함수를 정의하면 해당 함수는 메모리 상에 적재되며, 함수 이름은 이 함수 객체를 참조하게 됩니다.\n",
        "\n",
        "변수 할당: 함수를 다른 변수에 할당하면 그 변수는 원래의 함수 객체를 참조합니다. 이는 파이썬의 함수가 일급 객체(first-class object)로 취급되기 때문에 가능합니다.\n",
        "\n",
        "2. 메모리 제거\n",
        "\n",
        "참조 카운트: 파이썬의 메모리 관리는 주로 참조 카운팅(reference counting)에 기반합니다. 객체를 참조하는 변수나 요소의 수를 세어서 이 카운트가 0이 되면 해당 객체는 메모리에서 제거될 수 있게 됩니다.\n",
        "\n",
        "Garbage Collection: 참조 카운트가 0인 객체들은 바로 메모리에서 제거되지 않습니다. 대신, 파이썬의 가비지 컬렉터(garbage collector)가 이런 객체들을 주기적으로 찾아서 메모리에서 제거합니다.\n",
        "\n",
        "함수의 경우: 함수도 파이썬 객체이므로 참조 카운팅과 가비지 컬렉션의 원칙에 따라 동작합니다. 함수를 참조하는 변수나 요소가 없게 되면 해당 함수는 가비지 컬렉터에 의해 메모리에서 제거될 수 있습니다.\n",
        "\n",
        "명시적 제거: del 명령어를 사용하여 함수에 대한 참조를 명시적으로 제거할 수 있습니다. 하지만 이것이 함수가 즉시 메모리에서 제거된다는 것을 보장하지는 않습니다.\n",
        "\n",
        "종료 시: 파이썬 프로그램이 종료될 때, 모든 메모리는 OS에 반환됩니다. 따라서 프로그램이 종료되면 함수와 관련된 모든 메모리도 함께 반환됩니다."
      ],
      "metadata": {
        "id": "N3d15iw-e9ri"
      }
    },
    {
      "cell_type": "code",
      "source": [
        "def my_function():\n",
        "    print(\"Hello, World!\")\n",
        "\n",
        "func_var = my_function\n",
        "func_var()  # 이렇게 호출해도 \"Hello, World!\" 가 출력됩니다."
      ],
      "metadata": {
        "colab": {
          "base_uri": "https://localhost:8080/"
        },
        "id": "I0qq-txXf8MC",
        "outputId": "a8332fe6-524b-4b08-ac37-d262de27091a"
      },
      "execution_count": 1,
      "outputs": [
        {
          "output_type": "stream",
          "name": "stdout",
          "text": [
            "Hello, World!\n"
          ]
        }
      ]
    },
    {
      "cell_type": "code",
      "source": [
        "def my_function():\n",
        "    print(\"Hello, World!\")\n",
        "\n",
        "del my_function\n",
        "# 이후 my_function()을 호출하려고 하면 오류가 발생합니다."
      ],
      "metadata": {
        "id": "5Yhg5kdpf9xV"
      },
      "execution_count": 2,
      "outputs": []
    },
    {
      "cell_type": "code",
      "source": [],
      "metadata": {
        "id": "feionOH5f_XW"
      },
      "execution_count": null,
      "outputs": []
    }
  ]
}