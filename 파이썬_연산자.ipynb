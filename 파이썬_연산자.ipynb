{
  "nbformat": 4,
  "nbformat_minor": 0,
  "metadata": {
    "colab": {
      "provenance": [],
      "authorship_tag": "ABX9TyOHxhD/DAhZrZngHysQMe5R",
      "include_colab_link": true
    },
    "kernelspec": {
      "name": "python3",
      "display_name": "Python 3"
    },
    "language_info": {
      "name": "python"
    }
  },
  "cells": [
    {
      "cell_type": "markdown",
      "metadata": {
        "id": "view-in-github",
        "colab_type": "text"
      },
      "source": [
        "<a href=\"https://colab.research.google.com/github/hj2222222/OCR-developer-course/blob/main/%ED%8C%8C%EC%9D%B4%EC%8D%AC_%EC%97%B0%EC%82%B0%EC%9E%90.ipynb\" target=\"_parent\"><img src=\"https://colab.research.google.com/assets/colab-badge.svg\" alt=\"Open In Colab\"/></a>"
      ]
    },
    {
      "cell_type": "markdown",
      "source": [
        "# **파이썬 연산자**\n",
        "1. 산술 연산자\n",
        "산술 연산자는 주로 수치 데이터 유형에 대한 기본 산술 연산을 수행하기 위해 사용됩니다.\n",
        "\n",
        "*  \\+ : 더하기\n",
        "*  \\- : 빼기\n",
        "*  \\* : 곱하기\n",
        "*  \\/ : 나누기\n",
        "*  //: 몫 (정수 나누기)\n",
        "*  % : 나머지\n",
        "*  **: 지수 (거듭제곱)\n",
        "\n",
        "2. 비교 연산자\n",
        "비교 연산자는 주로 두 값을 비교하는 데 사용되며, 그 결과는 항상 불리언(True 또는 False) 값입니다.\n",
        "\n",
        "* ==: 동등\n",
        "* !=: 동등하지 않음\n",
        "* < : 작다\n",
        "* <=: 작거나 같다\n",
        "* \\> : 크다\n",
        "* \\>=: 크거나 같다\n",
        "\n",
        "3. 할당 연산자\n",
        "변수에 값을 할당하는데 사용됩니다. 파이썬에서는 기본 할당 연산자 외에도 복합 할당 연산자를 제공하여 코드를 간결하게 작성할 수 있게 도와줍니다.\n",
        "\n",
        "* = : 할당\n",
        "* += : 더하기 후 할당\n",
        "* -= : 빼기 후 할당\n",
        "* *= : 곱하기 후 할당\n",
        "* /= : 나누기 후 할당\n",
        "* //=: 몫 후 할당\n",
        "* %= : 나머지 후 할당\n",
        "* **=: 지수 후 할당\n",
        "\n",
        "4. 비트 연산자\n",
        "비트 연산자는 정수를 이진 비트로 표현했을 때 사용하는 연산자들입니다. 각 연산자는 정수의 비트 단위로 동작합니다.\n",
        "\n",
        "* & : 비트 단위 AND\n",
        "* | : 비트 단위 OR\n",
        "* ^ : 비트 단위 XOR\n",
        "* ~ : 비트 단위 NOT\n",
        "* << : 왼쪽 시프트\n",
        "* \\>> : 오른쪽 시프트\n",
        "\n",
        "5. 논리 연산자\n",
        "파이썬에서의 논리 연산자는 주로 불린(Boolean) 값을 조작하기 위해 사용됩니다. 그러나 파이썬의 논리 연산자는 다른 언어와는 다르게, 연산의 결과로 항상 True 또는 False만을 반환하는 것은 아닙니다. 대신 마지막으로 평가된 피연산자의 값을 반환합니다.\n",
        "\n",
        "* and: 논리 AND\n",
        "* or : 논리 OR\n",
        "* not: 논리 NOT\n",
        "\n"
      ],
      "metadata": {
        "id": "LellzfHjOWwC"
      }
    },
    {
      "cell_type": "code",
      "source": [
        "print(10 + 3)\n",
        "print(10 - 3)\n",
        "print(10 * 3)\n",
        "print(10 / 3)\n",
        "print(10 // 3)\n",
        "print(10 % 3)\n",
        "print(10 ** 3)"
      ],
      "metadata": {
        "colab": {
          "base_uri": "https://localhost:8080/"
        },
        "id": "w_RKPblGPkV0",
        "outputId": "912c91ca-9bed-4fe6-8aa0-86ac174f557e"
      },
      "execution_count": null,
      "outputs": [
        {
          "output_type": "stream",
          "name": "stdout",
          "text": [
            "13\n",
            "7\n",
            "30\n",
            "3.3333333333333335\n",
            "3\n",
            "1\n",
            "1000\n"
          ]
        }
      ]
    },
    {
      "cell_type": "code",
      "source": [
        "print(10 > 5)\n",
        "print(10 < 5)\n",
        "print(10 >= 5)\n",
        "print(10 <= 5)\n",
        "print(10 == 5)\n",
        "print(10 != 5)"
      ],
      "metadata": {
        "colab": {
          "base_uri": "https://localhost:8080/"
        },
        "id": "KdBHyg9lPmtx",
        "outputId": "cf29cf09-5b75-4e06-ad3f-e1cc55299dc9"
      },
      "execution_count": null,
      "outputs": [
        {
          "output_type": "stream",
          "name": "stdout",
          "text": [
            "True\n",
            "False\n",
            "True\n",
            "False\n",
            "False\n",
            "True\n"
          ]
        }
      ]
    },
    {
      "cell_type": "code",
      "source": [
        "num = 10\n",
        "\n",
        "num += 1    # num = num + 1\n",
        "print(num)\n",
        "num -= 1\n",
        "print(num)\n",
        "num *= 10\n",
        "print(num)\n",
        "num /= 10\n",
        "print(num)\n",
        "num %= 2\n",
        "print(num)"
      ],
      "metadata": {
        "colab": {
          "base_uri": "https://localhost:8080/"
        },
        "id": "0Uf9P0GMPoG8",
        "outputId": "356bad1f-6d73-4e3b-e75b-b8a2c6d062d8"
      },
      "execution_count": null,
      "outputs": [
        {
          "output_type": "stream",
          "name": "stdout",
          "text": [
            "11\n",
            "10\n",
            "100\n",
            "10.0\n",
            "0.0\n"
          ]
        }
      ]
    },
    {
      "cell_type": "code",
      "source": [
        "a = 60  # 111100\n",
        "b = 13  # 001101\n",
        "print(a & b)  # 12, 즉 1100\n",
        "\n",
        "print(a | b)  # 61, 즉 111101\n",
        "\n",
        "print(a ^ b)  # 49, 즉 110001\n",
        "\n",
        "print(~a)  # -61, 이 결과는 2의 보수 방식 때문입니다.\n",
        "\n",
        "print(a << 2)  # 240, 즉 11110000\n",
        "\n",
        "print(a >> 2)  # 15, 즉 1111"
      ],
      "metadata": {
        "colab": {
          "base_uri": "https://localhost:8080/"
        },
        "id": "FjHwpvTtPpiB",
        "outputId": "4b4de74d-2333-4037-e3e0-4f13654486d6"
      },
      "execution_count": null,
      "outputs": [
        {
          "output_type": "stream",
          "name": "stdout",
          "text": [
            "12\n",
            "61\n",
            "49\n",
            "-61\n",
            "240\n",
            "15\n"
          ]
        }
      ]
    },
    {
      "cell_type": "code",
      "source": [
        "# and\n",
        "print(True and 3)       # 3\n",
        "print(True and -3)       # 3\n",
        "print(3 and 5)         # 5\n",
        "print(0 and 5)         # 0\n",
        "\n",
        "# or\n",
        "print(False or 3)      # 3\n",
        "print(3 or 5)          # 3\n",
        "print(0 or 5)          # 5\n",
        "\n",
        "# not\n",
        "print(not True)        # False\n",
        "print(not 0)           # True\n",
        "print(not 3)           # False\n",
        "\n",
        "#and 일때 앞이 False면 냅다 False를 출력하고 True면 뒤 숫자를 그대로 내보낸다\n",
        "#or일때는 앞이 True로 판명나면 앞에걸 그대로 출력 Flase이면 뒤에거를 그대로 출력"
      ],
      "metadata": {
        "colab": {
          "base_uri": "https://localhost:8080/"
        },
        "id": "1z3dsspYPq31",
        "outputId": "30b43e65-e5a5-4c78-e6a7-3f0e0a2c7123"
      },
      "execution_count": null,
      "outputs": [
        {
          "output_type": "stream",
          "name": "stdout",
          "text": [
            "3\n",
            "-3\n",
            "5\n",
            "0\n",
            "3\n",
            "3\n",
            "5\n",
            "False\n",
            "True\n",
            "False\n"
          ]
        }
      ]
    },
    {
      "cell_type": "markdown",
      "source": [
        "# **※ 데이터의 크기를 나타내는 용량 단위**\n",
        "\n",
        "* Bit: 가장 기본적인 데이터 단위로, 0 또는 1의 값을 가질 수 있습니다.\n",
        "* Byte (B): 8 bits와 동일합니다.\n",
        "* Kilobyte (KB): 1 KB = 1,024 Bytes\n",
        "* Megabyte (MB): 1 MB = 1,024 KB\n",
        "* Gigabyte (GB): 1 GB = 1,024 MB\n",
        "* Terabyte (TB): 1 TB = 1,024 GB\n",
        "\n",
        "# **※ 파이썬에서 불린(Boolean)으로 평가되는 주요 값**\n",
        "1. True로 평가되는 주요 값\n",
        "\n",
        "Boolean: True\n",
        "* 값이 있는 것들: 예를 들어, -1, 1, 3.5 등 (단, 0 제외)\n",
        "* 문자열과 바이트 문자열: 예를 들어, 'hello', \"world\", b'hello' (단, 빈 문자열 '' 및 b'' 제외)\n",
        "* 모든 리스트, 튜플, 세트, 딕셔너리: 예를 들어, [1, 2], {'key': 'value'} 등 (단, 빈 컨테이너 제외)\n",
        "\n",
        "2. False로 평가되는 주요 값\n",
        "\n",
        "Boolean: False\n",
        "* 숫자: 0 (정수, 부동 소수점, 복소수 포함)\n",
        "* 문자열: 빈 문자열 '' 및 빈 바이트 문자열 b''\n",
        "* 리스트, 튜플, 세트: 빈 리스트 [], 빈 튜플 (), 빈 세트 set()\n",
        "* 딕셔너리: 빈 딕셔너리 {}\n",
        "* None: 파이썬의 None 객체도 False로 평가됩니다."
      ],
      "metadata": {
        "id": "rnKa3tXLPsPp"
      }
    },
    {
      "cell_type": "code",
      "source": [],
      "metadata": {
        "id": "-g3w4mlIQHsf"
      },
      "execution_count": null,
      "outputs": []
    }
  ]
}