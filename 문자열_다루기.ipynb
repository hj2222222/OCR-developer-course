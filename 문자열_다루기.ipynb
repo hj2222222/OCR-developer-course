{
  "nbformat": 4,
  "nbformat_minor": 0,
  "metadata": {
    "colab": {
      "provenance": [],
      "authorship_tag": "ABX9TyNR1Ci+Y1sAjdsJsPV0qj0t",
      "include_colab_link": true
    },
    "kernelspec": {
      "name": "python3",
      "display_name": "Python 3"
    },
    "language_info": {
      "name": "python"
    }
  },
  "cells": [
    {
      "cell_type": "markdown",
      "metadata": {
        "id": "view-in-github",
        "colab_type": "text"
      },
      "source": [
        "<a href=\"https://colab.research.google.com/github/hj2222222/OCR-developer-course/blob/main/%EB%AC%B8%EC%9E%90%EC%97%B4_%EB%8B%A4%EB%A3%A8%EA%B8%B0.ipynb\" target=\"_parent\"><img src=\"https://colab.research.google.com/assets/colab-badge.svg\" alt=\"Open In Colab\"/></a>"
      ]
    },
    {
      "cell_type": "markdown",
      "source": [
        "# **1. 문자열이란?**\n",
        "파이썬에서 문자열은 텍스트 데이터를 다루는 데 사용되는 중요한 데이터 타입입니다. 문자열은 작은 따옴표(')나 큰 따옴표(\"), 세 개의 따옴표(''', \"\"\")로 둘러싸인 텍스트로 표현됩니다.\n",
        "\n",
        "파이썬의 문자열은 유니코드(Unicode) 문자의 시퀀스로 구성되며, 문자열 값은 메모리에 저장되고 해당 값은 불변(immutable)한 특성을 가집니다. 파이썬은 문자열 리터럴의 공유 문자열 최적화와 같은 기술을 사용하여 문자열을 메모리 효율적으로 다루도록 설계되었습니다.\n",
        "\n",
        "\n",
        "\n",
        "1. 문자열 리터럴과 메모리 할당: 파이썬에서 문자열 리터럴(값)을 생성하면, 이러한 값은 메모리에 저장됩니다. 예를 들어 \"Hello, world!\"라는 문자열을 생성하면 해당 문자열 값이 메모리에 저장되고, 변수에 할당할 때는 해당 값의 참조(reference)가 변수에 저장됩니다.\n",
        "\n",
        "\n",
        "\n",
        "2. 공유 문자열 (String Interning): 작은 크기의 문자열 리터럴은 '공유 문자열'이라는 메모리 최적화 기술을 활용합니다. 동일한 문자열 값이 여러 변수에 할당되면, 파이썬은 메모리에 단일로 문자열을 저장하고 여러 변수가 해당 값을 참조하게 합니다. 이로써 메모리 사용을 줄일 수 있습니다.\n",
        "\n",
        "is 연산자는 파이썬에서 두 객체의 식별(Identity)을 비교할 때 사용되는 연산자입니다. 객체의 식별은 메모리 내에서 객체가 저장된 위치를 의미합니다. is 연산자는 두 객체가 동일한 메모리 위치에 저장되어 있는지 여부를 판단합니다.\n",
        "\n",
        "\n",
        "\n",
        "3. 문자열 연결과 재할당: 문자열은 불변한 데이터 타입이므로 문자열 연결(+ 연산자)이나 문자열 재할당 시 새로운 문자열 객체가 생성됩니다. 이전 문자열은 변경되지 않습니다."
      ],
      "metadata": {
        "id": "vD3f15NettaZ"
      }
    },
    {
      "cell_type": "code",
      "source": [
        "str1 = '오늘도 즐거운 파이썬 수업'\n",
        "print(str1)\n",
        "str2 = '오늘도 즐거운 파이썬 수업'\n",
        "print(str2)\n",
        "str3 = '''류지:\n",
        "오늘도 즐거운 파이썬\n",
        "수업 '''\n",
        "print(str3)"
      ],
      "metadata": {
        "colab": {
          "base_uri": "https://localhost:8080/"
        },
        "id": "vMqegbMpvmnC",
        "outputId": "3b95e9b2-a8d3-4379-c741-684c8b2eb224"
      },
      "execution_count": null,
      "outputs": [
        {
          "output_type": "stream",
          "name": "stdout",
          "text": [
            "오늘도 즐거운 파이썬 수업\n",
            "오늘도 즐거운 파이썬 수업\n",
            "류지:\n",
            "오늘도 즐거운 파이썬\n",
            "수업 \n"
          ]
        }
      ]
    },
    {
      "cell_type": "code",
      "source": [
        "a = \"Hello\"\n",
        "b = \"Hello\"\n",
        "\n",
        "print(a is b)  # 출력: True (동일한 문자열 객체를 참조)"
      ],
      "metadata": {
        "colab": {
          "base_uri": "https://localhost:8080/"
        },
        "id": "-daBlELiuBZt",
        "outputId": "924c75b9-fa80-4489-e443-1071ac8fb028"
      },
      "execution_count": null,
      "outputs": [
        {
          "output_type": "stream",
          "name": "stdout",
          "text": [
            "True\n"
          ]
        }
      ]
    },
    {
      "cell_type": "code",
      "source": [
        "a = \"Hello\"\n",
        "b = a + \", python!\"  # 새로운 문자열 객체 생성"
      ],
      "metadata": {
        "id": "ktoRWyn0uFV7"
      },
      "execution_count": null,
      "outputs": []
    },
    {
      "cell_type": "markdown",
      "source": [
        "# **※ 문자열 재할당**\n",
        "파이썬에서 문자열은 불변(immutable)한 데이터 타입이므로 같은 변수에 문자열을 재할당하는 경우, 새로운 문자열 객체가 생성되고 변수는 새로운 문자열 객체를 참조하게 됩니다. 이전 문자열 객체는 변경되지 않습니다.\n",
        "\n",
        "\n",
        "\n",
        "* 변수 자체의 '메모리 주소'는 파이썬에서 직접 액세스할 방법이 없습니다. 이는 파이썬의 추상화 수준 때문입니다. 파이썬은 메모리 관리를 추상화하여 개발자로 하여금 메모리 관리에 대한 걱정 없이 프로그래밍에 집중하게 해줍니다. 만약 C언어와 같은 저수준 언어를 사용하면 변수의 메모리 주소에 직접 액세스할 수 있습니다. 파이썬에서는 이러한 저수준의 작업을 하기 위해 ctypes 모듈을 사용할 수 있습니다. 그러나 이는 일반적으로 권장되지 않으며, 대부분의 경우에는 필요하지 않습니다.\n",
        "* id() 함수는 객체의 고유한 메모리 주소를 반환합니다."
      ],
      "metadata": {
        "id": "XWcvB0bJuGhe"
      }
    },
    {
      "cell_type": "code",
      "source": [
        "text = \"Hello\"\n",
        "print(id(text))  # 이전 문자열 객체의 메모리 주소 출력\n",
        "\n",
        "text = \"Python\"  # 변수에 새로운 문자열 할당\n",
        "print(id(text))  # 새로운 문자열 객체의 메모리 주소 출력"
      ],
      "metadata": {
        "colab": {
          "base_uri": "https://localhost:8080/"
        },
        "id": "IaVP1AcguRfa",
        "outputId": "72e89192-cd70-4111-f73a-3ef3d91856d2"
      },
      "execution_count": null,
      "outputs": [
        {
          "output_type": "stream",
          "name": "stdout",
          "text": [
            "138343386213808\n",
            "138343680538096\n"
          ]
        }
      ]
    },
    {
      "cell_type": "markdown",
      "source": [
        "# **※ 가비지 컬렉션**\n",
        "파이썬은 메모리 관리를 위해 참조 카운팅(reference counting) 메커니즘을 사용합니다. 이 메커니즘은 객체가 얼마나 많은 변수에 의해 참조되고 있는지를 추적합니다. 객체의 참조 카운트가 0이 되면 해당 객체는 더 이상 사용되지 않으며, 가비지 컬렉션(garbage collection)에 의해 메모리에서 해제됩니다.\n",
        "\n",
        "따라서 이전 문자열 객체에 더 이상 어떠한 변수도 참조하지 않을 때, 해당 문자열 객체는 참조 카운트가 0이 되며 가비지 컬렉션의 대상이 됩니다. 가비지 컬렉션은 주기적으로 실행되며 더 이상 사용되지 않는 객체를 메모리에서 해제하여 자동으로 메모리를 관리합니다."
      ],
      "metadata": {
        "id": "13oKJm9muTVC"
      }
    },
    {
      "cell_type": "markdown",
      "source": [
        "# **2. 문자열 함수와 연산자**\n",
        "1. 문자열 길이 확인하기 (len()): 문자열의 길이를 반환합니다.\n",
        "2. 문자열 합치기 (+): 두 문자열을 합쳐 새로운 문자열을 생성합니다.\n",
        "3. 문자열 반복하기 (*): 문자열을 여러 번 반복하여 새로운 문자열을 생성합니다.\n",
        "4. 문자열 인덱싱과 슬라이싱: 문자열 내부의 문자에 인덱스를 사용하여 접근하거나 슬라이스할 수 있습니다.\n"
      ],
      "metadata": {
        "id": "42nRB4bYuZTl"
      }
    },
    {
      "cell_type": "code",
      "source": [
        "text = \"Hello, Python!\"\n",
        "print(len(text))"
      ],
      "metadata": {
        "colab": {
          "base_uri": "https://localhost:8080/"
        },
        "id": "F6DN-7a5umZF",
        "outputId": "fc7761cd-2db7-4797-d39b-6518ccef78f3"
      },
      "execution_count": null,
      "outputs": [
        {
          "output_type": "stream",
          "name": "stdout",
          "text": [
            "14\n"
          ]
        }
      ]
    },
    {
      "cell_type": "code",
      "source": [
        "name = \"김사과\"\n",
        "age = \"20살\"\n",
        "message = name + \", \" + age\n",
        "print(message)"
      ],
      "metadata": {
        "colab": {
          "base_uri": "https://localhost:8080/"
        },
        "id": "EFd9zFvouoyq",
        "outputId": "d94d4071-93c9-488e-9f15-0b5367fb7bb4"
      },
      "execution_count": null,
      "outputs": [
        {
          "output_type": "stream",
          "name": "stdout",
          "text": [
            "김사과, 20살\n"
          ]
        }
      ]
    },
    {
      "cell_type": "code",
      "source": [
        "apple = \"🍎\" * 10\n",
        "print(apple)"
      ],
      "metadata": {
        "colab": {
          "base_uri": "https://localhost:8080/"
        },
        "id": "J7O8oVf_up1_",
        "outputId": "0e5ebaee-a4ac-417a-f1d1-34480d5064ce"
      },
      "execution_count": null,
      "outputs": [
        {
          "output_type": "stream",
          "name": "stdout",
          "text": [
            "🍎🍎🍎🍎🍎🍎🍎🍎🍎🍎\n"
          ]
        }
      ]
    },
    {
      "cell_type": "code",
      "source": [
        "str = '문자열 내부의 문자에 인덱스를 사용하여 접근하거나 슬라이스할 수 있습니다.'\n",
        "print(str)\n",
        "# 인덱싱\n",
        "print(str[0])\n",
        "print(str[1])\n",
        "print(str[12])\n",
        "print(str[-1])\n",
        "print(str[-2])"
      ],
      "metadata": {
        "colab": {
          "base_uri": "https://localhost:8080/"
        },
        "id": "IhGKeuGsuq5S",
        "outputId": "0e3b26a1-53fb-4ea5-b518-90de24d04036"
      },
      "execution_count": null,
      "outputs": [
        {
          "output_type": "stream",
          "name": "stdout",
          "text": [
            "문자열 내부의 문자에 인덱스를 사용하여 접근하거나 슬라이스할 수 있습니다.\n",
            "문\n",
            "자\n",
            "인\n",
            ".\n",
            "다\n"
          ]
        }
      ]
    },
    {
      "cell_type": "code",
      "source": [
        "str = '문자열 내부의 문자에 인덱스를 사용하여 접근하거나 슬라이스할 수 있습니다.'\n",
        "print(str)\n",
        "# 슬라이싱\n",
        "print(str[0:6])\n",
        "print(str[8:16])\n",
        "print(str[:16])\n",
        "print(str[8:])"
      ],
      "metadata": {
        "colab": {
          "base_uri": "https://localhost:8080/"
        },
        "id": "y_2-gvFGusOJ",
        "outputId": "f0c21569-8cb0-4cc8-e362-9e94ae1fcee8"
      },
      "execution_count": null,
      "outputs": [
        {
          "output_type": "stream",
          "name": "stdout",
          "text": [
            "문자열 내부의 문자에 인덱스를 사용하여 접근하거나 슬라이스할 수 있습니다.\n",
            "문자열 내부\n",
            "문자에 인덱스를\n",
            "문자열 내부의 문자에 인덱스를\n",
            "문자에 인덱스를 사용하여 접근하거나 슬라이스할 수 있습니다.\n"
          ]
        }
      ]
    },
    {
      "cell_type": "markdown",
      "source": [
        "# **3.문자열 메서드**\n",
        "문자열 메서드는 문자열 객체에 적용되는 함수로, 문자열을 조작하거나 변환하는 다양한 작업을 수행할 수 있게 해줍니다.\n",
        "\n",
        "1. upper()와 lower() - 대소문자 변환\n",
        "2. count() - 특정 문자열의 등장 횟수 확인\n",
        "3. find() - 특정 부분 문자열의 첫 번째 등장 위치(인덱스) 확인\n",
        "4. replace() - 문자열 대체\n",
        "5. strip() - 문자열 양쪽 공백 제거\n",
        "6. split() - 문자열 분리\n",
        "7. join() - 문자열 결합\n",
        "8. startswith()와 endswith() - 접두사와 접미사 확인"
      ],
      "metadata": {
        "id": "QPfoXezvuuVU"
      }
    },
    {
      "cell_type": "code",
      "source": [
        "text = \"Hello, Python!\"\n",
        "print(text.upper())\n",
        "print(text.lower())"
      ],
      "metadata": {
        "colab": {
          "base_uri": "https://localhost:8080/"
        },
        "id": "GPCMlZofu-7F",
        "outputId": "ecc13930-f8ec-4630-d615-ce3e949b3cdc"
      },
      "execution_count": null,
      "outputs": [
        {
          "output_type": "stream",
          "name": "stdout",
          "text": [
            "HELLO, PYTHON!\n",
            "hello, python!\n"
          ]
        }
      ]
    },
    {
      "cell_type": "code",
      "source": [
        "text = \"Hello, Python!\"\n",
        "print(text.count('l'))\n",
        "print(text.count('ll'))"
      ],
      "metadata": {
        "colab": {
          "base_uri": "https://localhost:8080/"
        },
        "id": "0HuwqKhCvAnD",
        "outputId": "51557319-f07d-4eae-c758-cd6984d97d41"
      },
      "execution_count": null,
      "outputs": [
        {
          "output_type": "stream",
          "name": "stdout",
          "text": [
            "2\n",
            "1\n"
          ]
        }
      ]
    },
    {
      "cell_type": "code",
      "source": [
        "text = \"Hello, Python!\"\n",
        "print(text.find('l'))\n",
        "print(text.find('ll'))\n",
        "print(text.find('z'))\n",
        "print(text.rfind('l'))\n",
        "print(text.find('o', 5))"
      ],
      "metadata": {
        "colab": {
          "base_uri": "https://localhost:8080/"
        },
        "id": "Eq9keeMTvB0a",
        "outputId": "92663cac-fbe7-4935-f018-4a94552cbb83"
      },
      "execution_count": null,
      "outputs": [
        {
          "output_type": "stream",
          "name": "stdout",
          "text": [
            "2\n",
            "2\n",
            "-1\n",
            "3\n",
            "11\n"
          ]
        }
      ]
    },
    {
      "cell_type": "code",
      "source": [
        "text = \"Hello, Python!\"\n",
        "new_text = text.replace(\"Python\", \"World\")\n",
        "\n",
        "print(new_text)"
      ],
      "metadata": {
        "colab": {
          "base_uri": "https://localhost:8080/"
        },
        "id": "TAihveOrvEjn",
        "outputId": "041011f2-c32d-4630-fabf-bbae9eb42df3"
      },
      "execution_count": null,
      "outputs": [
        {
          "output_type": "stream",
          "name": "stdout",
          "text": [
            "Hello, World!\n"
          ]
        }
      ]
    },
    {
      "cell_type": "code",
      "source": [
        "text = \"   Hello, Python!   \"\n",
        "print(text)\n",
        "print(text.strip())"
      ],
      "metadata": {
        "colab": {
          "base_uri": "https://localhost:8080/"
        },
        "id": "BW6GWxS-vFL_",
        "outputId": "c2062a9b-f7d3-43a5-eb47-0be767963c76"
      },
      "execution_count": null,
      "outputs": [
        {
          "output_type": "stream",
          "name": "stdout",
          "text": [
            "   Hello, Python!   \n",
            "Hello, Python!\n"
          ]
        }
      ]
    },
    {
      "cell_type": "code",
      "source": [
        "text = '김사과 반하나 오렌지 이메론'\n",
        "names = text.split() # 공백을 기준으로 분리\n",
        "print(names)\n",
        "\n",
        "text = '김사과,반하나,오렌지,이메론'\n",
        "names = text.split(',') # ','을 기분으로 분리\n",
        "print(names)"
      ],
      "metadata": {
        "colab": {
          "base_uri": "https://localhost:8080/"
        },
        "id": "TkKy-iwPvHVp",
        "outputId": "217be7b5-5641-4fed-9c87-8d9bb536eeac"
      },
      "execution_count": null,
      "outputs": [
        {
          "output_type": "stream",
          "name": "stdout",
          "text": [
            "['김사과', '반하나', '오렌지', '이메론']\n",
            "['김사과', '반하나', '오렌지', '이메론']\n"
          ]
        }
      ]
    },
    {
      "cell_type": "code",
      "source": [
        "text = 'Hello'\n",
        "print('🙋‍♂️'.join(text))"
      ],
      "metadata": {
        "colab": {
          "base_uri": "https://localhost:8080/"
        },
        "id": "jxlJnm0VvIYr",
        "outputId": "a5d4c5a7-a1ea-4065-e7c3-5b2d8baf267f"
      },
      "execution_count": null,
      "outputs": [
        {
          "output_type": "stream",
          "name": "stdout",
          "text": [
            "H🙋‍♂️e🙋‍♂️l🙋‍♂️l🙋‍♂️o\n"
          ]
        }
      ]
    },
    {
      "cell_type": "code",
      "source": [
        "text = \"Hello, Python!\"\n",
        "starts_with_hello = text.startswith(\"Hello\")\n",
        "ends_with_world = text.endswith(\"World!\")\n",
        "starts_with_h = text.startswith(\"H\")\n",
        "movie = '파묘'\n",
        "\n",
        "\n",
        "print(starts_with_hello)\n",
        "print(ends_with_world)\n",
        "print(starts_with_h)"
      ],
      "metadata": {
        "colab": {
          "base_uri": "https://localhost:8080/"
        },
        "id": "2VcwjLZgvJkA",
        "outputId": "12d632e9-af53-40aa-bcde-c38dd3212de6"
      },
      "execution_count": null,
      "outputs": [
        {
          "output_type": "stream",
          "name": "stdout",
          "text": [
            "True\n",
            "False\n",
            "True\n"
          ]
        }
      ]
    },
    {
      "cell_type": "markdown",
      "source": [
        "# **문자열 함수 , 문자열 메서드**\n",
        "1. 문자열 함수 :\n",
        "문자열 함수는 파이썬 내장 함수로, 문자열을 다루거나 처리하는 데 사용됩니다. 이러한 함수들은 문자열을 입력으로 받아 처리한 후 결과를 반환합니다.\n",
        "\n",
        "\n",
        "\n",
        "2. 문자열 메서드 :\n",
        "문자열 메서드는 문자열 자체에 대해 호출되는 함수로, 문자열 내부에서 작동하는 동작을 수행합니다. 문자열 객체에 점(.)을 찍고 메서드 이름을 호출하는 방식으로 사용됩니다."
      ],
      "metadata": {
        "id": "83y5B_y_vKqI"
      }
    },
    {
      "cell_type": "code",
      "source": [
        "1 + 1 == 2"
      ],
      "metadata": {
        "colab": {
          "base_uri": "https://localhost:8080/"
        },
        "id": "aDU29WG_vSpU",
        "outputId": "1dad4d9e-1437-4acf-ef15-41c49d5fe51a"
      },
      "execution_count": null,
      "outputs": [
        {
          "output_type": "execute_result",
          "data": {
            "text/plain": [
              "True"
            ]
          },
          "metadata": {},
          "execution_count": 22
        }
      ]
    },
    {
      "cell_type": "code",
      "source": [
        "round(0.1,2) + round(1.1,2) == 1.2"
      ],
      "metadata": {
        "colab": {
          "base_uri": "https://localhost:8080/"
        },
        "id": "XPuP47iCW8W7",
        "outputId": "3a1c7233-ef7d-4d16-c23c-a67aeace944d"
      },
      "execution_count": null,
      "outputs": [
        {
          "output_type": "execute_result",
          "data": {
            "text/plain": [
              "False"
            ]
          },
          "metadata": {},
          "execution_count": 25
        }
      ]
    },
    {
      "cell_type": "code",
      "source": [
        "round(0.1,2) + round(1.1,2)"
      ],
      "metadata": {
        "colab": {
          "base_uri": "https://localhost:8080/"
        },
        "id": "wO1C_lHJW-Wi",
        "outputId": "a86a0f6a-1bd6-41e0-bfa8-9e8a681e14b2"
      },
      "execution_count": null,
      "outputs": [
        {
          "output_type": "execute_result",
          "data": {
            "text/plain": [
              "1.2000000000000002"
            ]
          },
          "metadata": {},
          "execution_count": 28
        }
      ]
    },
    {
      "cell_type": "code",
      "source": [
        "round(1.1,2)"
      ],
      "metadata": {
        "colab": {
          "base_uri": "https://localhost:8080/"
        },
        "id": "Nw6UgdphaKmf",
        "outputId": "f9690255-18c2-4a91-bbd7-1eab22ab15c4"
      },
      "execution_count": null,
      "outputs": [
        {
          "output_type": "execute_result",
          "data": {
            "text/plain": [
              "1.1"
            ]
          },
          "metadata": {},
          "execution_count": 27
        }
      ]
    },
    {
      "cell_type": "code",
      "source": [
        "print(\"{:.50f}\".format(0.1))"
      ],
      "metadata": {
        "colab": {
          "base_uri": "https://localhost:8080/"
        },
        "id": "stbZzRsQaL2l",
        "outputId": "ab167aa0-3f59-46c2-a60e-45eaba567a01"
      },
      "execution_count": null,
      "outputs": [
        {
          "output_type": "stream",
          "name": "stdout",
          "text": [
            "0.10000000000000000555111512312578270211815834045410\n"
          ]
        }
      ]
    },
    {
      "cell_type": "code",
      "source": [],
      "metadata": {
        "id": "SXW4BjkqalQ8"
      },
      "execution_count": null,
      "outputs": []
    }
  ]
}