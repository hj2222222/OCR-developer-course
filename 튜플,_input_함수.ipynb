{
  "nbformat": 4,
  "nbformat_minor": 0,
  "metadata": {
    "colab": {
      "provenance": [],
      "authorship_tag": "ABX9TyNoLedhiOrgW02oVFPekPZD",
      "include_colab_link": true
    },
    "kernelspec": {
      "name": "python3",
      "display_name": "Python 3"
    },
    "language_info": {
      "name": "python"
    }
  },
  "cells": [
    {
      "cell_type": "markdown",
      "metadata": {
        "id": "view-in-github",
        "colab_type": "text"
      },
      "source": [
        "<a href=\"https://colab.research.google.com/github/hj2222222/OCR-developer-course/blob/main/%ED%8A%9C%ED%94%8C%2C_input_%ED%95%A8%EC%88%98.ipynb\" target=\"_parent\"><img src=\"https://colab.research.google.com/assets/colab-badge.svg\" alt=\"Open In Colab\"/></a>"
      ]
    },
    {
      "cell_type": "markdown",
      "source": [
        "# **1. 튜풀이란**\n",
        "여러 가지 데이터 타입의 값을 저장할 수 있는, 변경 불가능(immutable)한 순서가 있는 컬렉션입니다.\n",
        "\n",
        "\n",
        "\n",
        "1. 생성 :\n",
        "튜플은 괄호 ()를 사용하여 생성하고, 항목들은 쉼표 ,로 구분됩니다.\n",
        "\n",
        "2. 인덱싱 :\n",
        "튜플의 각 항목은 위치(인덱스)를 가지고 있으며, 인덱스를 사용하여 접근할 수 있습니다. 인덱스는 0부터 시작합니다.\n",
        "\n",
        "3. 슬라이싱 :\n",
        "튜플의 일부분만을 추출할 수 있습니다.\n",
        "\n",
        "4. 연산 :\n",
        "튜플 간의 + 연산으로 리스트를 결합할 수 있고, * 연산으로 리스트를 반복할 수 있습니다.\n",
        "\n",
        "5. 언패킹 :\n",
        "튜플의 항목들은 변수들에 할당될 수 있습니다. (리스트도 가능)\n",
        "\n",
        "6. 멤버십 테스트 :\n",
        "in 연산자를 사용하여 튜플에 특정 값이 있는지 확인할 수 있습니다. (리스트도 가능)\n",
        "\n",
        "7. 튜플의 정렬 :\n",
        "튜플은 sort() 메서드를 제공하지 않습니다. sorted() 함수를 사용합니다.\n",
        "\n",
        "8. 변환 :\n",
        "튜플을 리스트로, 리스트를 튜플로 변환할 수 있습니다."
      ],
      "metadata": {
        "id": "iAqGp0xG0oVU"
      }
    },
    {
      "cell_type": "code",
      "source": [
        "tu1 = (1,) #원소가 하나일 경우에는 뒤에 ','를 넣어줘야 튜플이 만들어짐 넣지않으면 일반 정수형으로 만들어짐\n",
        "print(tu1)\n",
        "\n",
        "# tu1[0] = 100\n",
        "\n",
        "tu2 = (1, 3, 5, 7)\n",
        "print(tu2)\n",
        "\n",
        "tu3 = 1, 3, 5, 7 #해당과 같이 소괄호없이 나열만하면 튜플형으로 간주되어서 튜플이 만들어짐\n",
        "print(tu3)\n",
        "print(type(tu3))\n",
        "\n",
        "tu4 = ('apple', 'banana', ('🍓', '🍉'))\n",
        "print(tu4)\n",
        "print(tu4[0])\n",
        "print(tu4[2][0])\n",
        "print(type(tu4))\n",
        "\n",
        "tu4 = ('apple', 'banana', ('🍓', '🍉'))\n",
        "tu4[0] = 1 # 해당 코드는 에러가 남 이유는 튜플은 변경불가능하기 때문에\n",
        "\n",
        "\n",
        "tu5 = ('apple', 'banana', ['🍓', '🍉']) #튜플안에는 튜플만 들어갈수있는게 아니라 리스트도 들어갈수있음\n",
        "print(tu5)\n",
        "print(tu5[2][0])\n",
        "print(type(tu5[2]))"
      ],
      "metadata": {
        "colab": {
          "base_uri": "https://localhost:8080/"
        },
        "id": "reCIrTg51JUM",
        "outputId": "68f6e577-935b-49d6-f97a-f5d0116e9a91"
      },
      "execution_count": null,
      "outputs": [
        {
          "output_type": "stream",
          "name": "stdout",
          "text": [
            "(1,)\n",
            "(1, 3, 5, 7)\n",
            "(1, 3, 5, 7)\n",
            "<class 'tuple'>\n",
            "('apple', 'banana', ('🍓', '🍉'))\n",
            "apple\n",
            "🍓\n",
            "<class 'tuple'>\n",
            "('apple', 'banana', ['🍓', '🍉'])\n",
            "🍓\n",
            "<class 'list'>\n"
          ]
        }
      ]
    },
    {
      "cell_type": "code",
      "source": [
        "tu1 = (1, 2, 'apple', 'banana')\n",
        "\n",
        "print(tu1[0])\n",
        "print(tu1[-1])\n",
        "\n",
        "print(tu1[1:])\n",
        "print(tu1[1:3])"
      ],
      "metadata": {
        "colab": {
          "base_uri": "https://localhost:8080/"
        },
        "id": "1rSorbJi1LZ0",
        "outputId": "c07d13d9-c0b4-42fd-faaa-36edeced6168"
      },
      "execution_count": null,
      "outputs": [
        {
          "output_type": "stream",
          "name": "stdout",
          "text": [
            "1\n",
            "banana\n"
          ]
        }
      ]
    },
    {
      "cell_type": "code",
      "source": [
        "tu1 = (10, 20, 30)\n",
        "tu2 = (40, 50, 60)\n",
        "\n",
        "\n",
        "print(tu1 + tu2)\n",
        "print(tu2 + tu1)\n",
        "\n",
        "tu1 = tu1 + (40, 50)\n",
        "print(tu1)\n",
        "\n",
        "print(tu1 * 3)\n",
        "\n",
        "tu3 = (10, 20, 30)\n",
        "print(tu3[0] + tu3[2])"
      ],
      "metadata": {
        "colab": {
          "base_uri": "https://localhost:8080/"
        },
        "id": "ApbJA7Hw1QE-",
        "outputId": "9b03c381-42ef-414c-c4c7-770167977b58"
      },
      "execution_count": null,
      "outputs": [
        {
          "output_type": "stream",
          "name": "stdout",
          "text": [
            "(10, 20, 30, 40, 50, 60)\n",
            "(40, 50, 60, 10, 20, 30)\n",
            "(10, 20, 30, 40, 50)\n",
            "(10, 20, 30, 40, 50, 10, 20, 30, 40, 50, 10, 20, 30, 40, 50)\n",
            "40\n"
          ]
        }
      ]
    },
    {
      "cell_type": "code",
      "source": [
        "apple, banana = ('김사과', '반하나') # 각각 변수로 나누어 저장하는것이 가능함\n",
        "print(apple)\n",
        "print(banana)\n",
        "\n",
        "apple, banana = '김사과', '반하나'\n",
        "print(apple)\n",
        "print(banana)"
      ],
      "metadata": {
        "colab": {
          "base_uri": "https://localhost:8080/"
        },
        "id": "39H0H_Kg1RNw",
        "outputId": "e92b1657-8b02-4cfc-faa5-af0ee7ec33b5"
      },
      "execution_count": null,
      "outputs": [
        {
          "output_type": "stream",
          "name": "stdout",
          "text": [
            "김사과\n",
            "반하나\n"
          ]
        }
      ]
    },
    {
      "cell_type": "code",
      "source": [
        "2 in (2, 4, 6, 8, 10)"
      ],
      "metadata": {
        "colab": {
          "base_uri": "https://localhost:8080/"
        },
        "id": "xF4YPssm1SQv",
        "outputId": "314f002d-faff-4b5a-da34-451390807fce"
      },
      "execution_count": null,
      "outputs": [
        {
          "output_type": "execute_result",
          "data": {
            "text/plain": [
              "True"
            ]
          },
          "metadata": {},
          "execution_count": 6
        }
      ]
    },
    {
      "cell_type": "code",
      "source": [
        "tu1 = (1, 3, 2, 0)\n",
        "# tu1.sort() <- 튜플에는 sort라는 메소드가 없음 inplace연산이 불가능하기 때문에\n",
        "\n",
        "tu1 = sorted(tu1)\n",
        "print(tu1) #반환형이 리스트기 때문에 튜플로 사용할거면 다시 튜플을 씌워줘야함."
      ],
      "metadata": {
        "colab": {
          "base_uri": "https://localhost:8080/"
        },
        "id": "YrEA1WWX1TOW",
        "outputId": "cc31b09c-e321-4b8f-f9f8-1420af0b8b2b"
      },
      "execution_count": null,
      "outputs": [
        {
          "output_type": "stream",
          "name": "stdout",
          "text": [
            "[0, 1, 2, 3]\n"
          ]
        }
      ]
    },
    {
      "cell_type": "code",
      "source": [
        "tu1 = (1, 2, 3, 4)\n",
        "print(type(tu1))\n",
        "li1 = list(tu1)\n",
        "print(type(li1))\n",
        "tu2 = tuple(li1)\n",
        "print(type(tu2))"
      ],
      "metadata": {
        "colab": {
          "base_uri": "https://localhost:8080/"
        },
        "id": "UOWH4pKQ1UOC",
        "outputId": "f6f48210-b1fa-40e9-8fb6-1c19e6d0cbee"
      },
      "execution_count": null,
      "outputs": [
        {
          "output_type": "stream",
          "name": "stdout",
          "text": [
            "<class 'tuple'>\n",
            "<class 'list'>\n",
            "<class 'tuple'>\n"
          ]
        }
      ]
    },
    {
      "cell_type": "markdown",
      "source": [
        "#**2. input함수**\n",
        "* 사용자(개발자)에게 데이터를 입력받을수 있는 함수\n",
        "* 데이터는 항상 문자형으로 입력됌."
      ],
      "metadata": {
        "id": "-iYvBVoi1VR5"
      }
    },
    {
      "cell_type": "code",
      "source": [
        "name = input()\n",
        "print(name)"
      ],
      "metadata": {
        "colab": {
          "base_uri": "https://localhost:8080/"
        },
        "id": "_7PU05hBXNS3",
        "outputId": "805fe459-ed10-471a-8b7d-c18ec95aada4"
      },
      "execution_count": null,
      "outputs": [
        {
          "name": "stdout",
          "output_type": "stream",
          "text": [
            "dkdk\n"
          ]
        }
      ]
    },
    {
      "cell_type": "code",
      "source": [
        "name = input('이름을 입력하세요 : ')\n",
        "print(f'{name}님 안녕하세요')"
      ],
      "metadata": {
        "colab": {
          "base_uri": "https://localhost:8080/"
        },
        "id": "7Tv1tQFCXcCz",
        "outputId": "7cbff144-52f3-4a4a-ff10-d77d3abbc4bb"
      },
      "execution_count": null,
      "outputs": [
        {
          "output_type": "stream",
          "name": "stdout",
          "text": [
            "이름을 입력하세요 : 이혁제\n",
            "이혁제님 안녕하세요\n"
          ]
        }
      ]
    },
    {
      "cell_type": "code",
      "source": [
        "#김사과 20 50 -> ['김사과',20,50]\n",
        "name , age, weight = input('이름 나이 몸무게를 띄어쓰기로 구분하여 입력하세요').split(' ')\n",
        "print(f'{name}님의 나이는 {age}살이며 몸무게는 {weight}kg 입니다')"
      ],
      "metadata": {
        "colab": {
          "base_uri": "https://localhost:8080/"
        },
        "id": "JzRwTRdCXecH",
        "outputId": "35133fde-ce97-4749-e849-54d521b9795f"
      },
      "execution_count": null,
      "outputs": [
        {
          "output_type": "stream",
          "name": "stdout",
          "text": [
            "이름 나이 몸무게를 띄어쓰기로 구분하여 입력하세요이혁제 27 75\n",
            "이혁제님의 나이는 27살이며 몸무게는 75kg 입니다\n"
          ]
        }
      ]
    },
    {
      "cell_type": "code",
      "source": [
        "num1 = input('첫번째 숫자를 입력하세요')\n",
        "num2 = input('두번째 숫자를 입력하세요')\n",
        "print('결과 : ',int(num1)+int(num2))"
      ],
      "metadata": {
        "colab": {
          "base_uri": "https://localhost:8080/"
        },
        "id": "C2r3TgV7YajJ",
        "outputId": "0f7763ac-58bd-4390-b7a7-0405abe1d878"
      },
      "execution_count": null,
      "outputs": [
        {
          "output_type": "stream",
          "name": "stdout",
          "text": [
            "첫번째 숫자를 입력하세요10\n",
            "두번째 숫자를 입력하세요50\n",
            "결과 :  60\n"
          ]
        }
      ]
    },
    {
      "cell_type": "markdown",
      "source": [
        "###문제\n",
        "* 국어점수 영어점수 수학점수를 입력받아 총점과 평균을 구하는 프로그램을 작성해보자 단 입력 방법은 100/70/85 이런 형태로 진행한다.\n"
      ],
      "metadata": {
        "id": "be7fBEIrcKvT"
      }
    },
    {
      "cell_type": "code",
      "source": [
        "kor, eng, math = input(\"국어점수 영어점수 수학점수를 '/'로 구분하여 입력하여주세요\").split('/')\n",
        "total = int(kor) + int(eng) + int(math)\n",
        "avg = total/3\n",
        "print(f'당신의 총점은 {total}점이고 평균은{avg}점 입니다.')\n",
        "print('평균 : %.2f' %avg)"
      ],
      "metadata": {
        "colab": {
          "base_uri": "https://localhost:8080/"
        },
        "id": "VyeLXqDKc2qL",
        "outputId": "b4af3016-955f-49da-ec26-3c40f62a13c7"
      },
      "execution_count": null,
      "outputs": [
        {
          "output_type": "stream",
          "name": "stdout",
          "text": [
            "국어점수 영어점수 수학점수를 '/'로 구분하여 입력하여주세요100/97/79\n",
            "당신의 총점은 276점이고 평균은92.0점 입니다.\n",
            "평균 : 92.00\n"
          ]
        }
      ]
    },
    {
      "cell_type": "code",
      "source": [
        "a = 10\n",
        "print(id(a))\n",
        "a += 5\n",
        "print(id(a))"
      ],
      "metadata": {
        "colab": {
          "base_uri": "https://localhost:8080/"
        },
        "id": "avBe1SkndSX-",
        "outputId": "01607911-b1a8-4f0e-fecc-04f25a0ac376"
      },
      "execution_count": null,
      "outputs": [
        {
          "output_type": "stream",
          "name": "stdout",
          "text": [
            "135708422898192\n",
            "135708422898352\n"
          ]
        }
      ]
    },
    {
      "cell_type": "code",
      "source": [
        "import sys\n",
        "\n",
        "score = input(\"국어점수 영어점수 수학점수를 '/'로 구분하여 입력하여주세요\")\n",
        "scores = score.split('/')\n",
        "\n",
        "try:\n",
        "    scores.remove('')\n",
        "except:\n",
        "  pass\n",
        "\n",
        "if score.count('/') != 2:\n",
        "  print('/를 2개사용해 점수를 구분하여 점수를 총 3개 적어주세요')\n",
        "  sys.exit()\n",
        "elif len(scores) != 3:\n",
        "  print('점수를 총 3가지 입력해주세요')\n",
        "  sys.exit()\n",
        "\n",
        "try :\n",
        "  for i in scores:\n",
        "    scores[i] = int(scores[i])\n",
        "except:\n",
        "  print(\"점수를 숫자로 입력해주세요\")\n",
        "\n",
        "total = 0\n",
        "for i in scores:\n",
        "  total += scores[i]\n",
        "\n",
        "avg = total / len(scores)\n",
        "\n",
        "print(f'귀하의 총점은 {total}점이고 평균은 {avg}점입니다.')"
      ],
      "metadata": {
        "id": "2NiD7OTsiADa",
        "colab": {
          "base_uri": "https://localhost:8080/",
          "height": 239
        },
        "outputId": "d1992453-a9d3-41b2-a633-25b766331b53"
      },
      "execution_count": null,
      "outputs": [
        {
          "name": "stdout",
          "output_type": "stream",
          "text": [
            "국어점수 영어점수 수학점수를 '/'로 구분하여 입력하여주세요팔십오/90/90\n"
          ]
        },
        {
          "output_type": "error",
          "ename": "ValueError",
          "evalue": "list.remove(x): x not in list",
          "traceback": [
            "\u001b[0;31m---------------------------------------------------------------------------\u001b[0m",
            "\u001b[0;31mValueError\u001b[0m                                Traceback (most recent call last)",
            "\u001b[0;32m<ipython-input-25-3c2833b58453>\u001b[0m in \u001b[0;36m<cell line: 5>\u001b[0;34m()\u001b[0m\n\u001b[1;32m      3\u001b[0m \u001b[0mscore\u001b[0m \u001b[0;34m=\u001b[0m \u001b[0minput\u001b[0m\u001b[0;34m(\u001b[0m\u001b[0;34m\"국어점수 영어점수 수학점수를 '/'로 구분하여 입력하여주세요\"\u001b[0m\u001b[0;34m)\u001b[0m\u001b[0;34m\u001b[0m\u001b[0;34m\u001b[0m\u001b[0m\n\u001b[1;32m      4\u001b[0m \u001b[0mscores\u001b[0m \u001b[0;34m=\u001b[0m \u001b[0mscore\u001b[0m\u001b[0;34m.\u001b[0m\u001b[0msplit\u001b[0m\u001b[0;34m(\u001b[0m\u001b[0;34m'/'\u001b[0m\u001b[0;34m)\u001b[0m\u001b[0;34m\u001b[0m\u001b[0;34m\u001b[0m\u001b[0m\n\u001b[0;32m----> 5\u001b[0;31m \u001b[0mscores\u001b[0m\u001b[0;34m.\u001b[0m\u001b[0mremove\u001b[0m\u001b[0;34m(\u001b[0m\u001b[0;34m''\u001b[0m\u001b[0;34m)\u001b[0m\u001b[0;34m\u001b[0m\u001b[0;34m\u001b[0m\u001b[0m\n\u001b[0m\u001b[1;32m      6\u001b[0m \u001b[0mprint\u001b[0m\u001b[0;34m(\u001b[0m\u001b[0mscores\u001b[0m\u001b[0;34m)\u001b[0m\u001b[0;34m\u001b[0m\u001b[0;34m\u001b[0m\u001b[0m\n\u001b[1;32m      7\u001b[0m \u001b[0;32mif\u001b[0m \u001b[0mscore\u001b[0m\u001b[0;34m.\u001b[0m\u001b[0mcount\u001b[0m\u001b[0;34m(\u001b[0m\u001b[0;34m'/'\u001b[0m\u001b[0;34m)\u001b[0m \u001b[0;34m!=\u001b[0m \u001b[0;36m2\u001b[0m\u001b[0;34m:\u001b[0m\u001b[0;34m\u001b[0m\u001b[0;34m\u001b[0m\u001b[0m\n",
            "\u001b[0;31mValueError\u001b[0m: list.remove(x): x not in list"
          ]
        }
      ]
    },
    {
      "cell_type": "code",
      "source": [],
      "metadata": {
        "colab": {
          "base_uri": "https://localhost:8080/",
          "height": 147
        },
        "id": "gPQu8uUP8gz5",
        "outputId": "5482f8d7-f4dc-48e8-c048-3271c4a79fd3"
      },
      "execution_count": null,
      "outputs": [
        {
          "output_type": "error",
          "ename": "ValueError",
          "evalue": "invalid literal for int() with base 10: '팔십오'",
          "traceback": [
            "\u001b[0;31m---------------------------------------------------------------------------\u001b[0m",
            "\u001b[0;31mValueError\u001b[0m                                Traceback (most recent call last)",
            "\u001b[0;32m<ipython-input-19-9fb760139345>\u001b[0m in \u001b[0;36m<cell line: 1>\u001b[0;34m()\u001b[0m\n\u001b[0;32m----> 1\u001b[0;31m \u001b[0mint\u001b[0m\u001b[0;34m(\u001b[0m\u001b[0;34m'팔십오'\u001b[0m\u001b[0;34m)\u001b[0m\u001b[0;34m\u001b[0m\u001b[0;34m\u001b[0m\u001b[0m\n\u001b[0m",
            "\u001b[0;31mValueError\u001b[0m: invalid literal for int() with base 10: '팔십오'"
          ]
        }
      ]
    },
    {
      "cell_type": "code",
      "source": [],
      "metadata": {
        "id": "6mUTOjSE95Q7"
      },
      "execution_count": null,
      "outputs": []
    }
  ]
}