{
  "nbformat": 4,
  "nbformat_minor": 0,
  "metadata": {
    "colab": {
      "provenance": [],
      "authorship_tag": "ABX9TyOcN6KKx/s981Rvdgp9eBuo",
      "include_colab_link": true
    },
    "kernelspec": {
      "name": "python3",
      "display_name": "Python 3"
    },
    "language_info": {
      "name": "python"
    }
  },
  "cells": [
    {
      "cell_type": "markdown",
      "metadata": {
        "id": "view-in-github",
        "colab_type": "text"
      },
      "source": [
        "<a href=\"https://colab.research.google.com/github/hj2222222/OCR-developer-course/blob/main/%ED%8C%8C%EC%9D%BC_%EC%9E%85%EC%B6%9C%EB%A0%A5%EC%9D%84_%EC%9D%B4%EC%9A%A9%ED%95%9C_%EB%8B%A8%EC%96%B4%EC%9E%A5_%EB%A7%8C%EB%93%A4%EA%B8%B0.ipynb\" target=\"_parent\"><img src=\"https://colab.research.google.com/assets/colab-badge.svg\" alt=\"Open In Colab\"/></a>"
      ]
    },
    {
      "cell_type": "markdown",
      "source": [
        "### 문제\n",
        "아래 조건을 만족하는 영어 단어장을 만들어보자\n",
        "* 1. 등록하기\n",
        "* 2. 출력하기\n",
        "* 3. 저장하기\n",
        "* 4. 불러오기\n",
        "* 5. 종료하기\n",
        "\n",
        "* 1을 선택하면\n",
        "  * 단어를 입력하세요 : apple\n",
        "  * 뜻을 입력하세요 : 사과\n",
        "  * 레벨을 입력하세요 1\n",
        "  등록 되었습니다 출력\n",
        "\n",
        "* 2를 선택했을 경우\n",
        "  * apple 사과 (레벨1) #여러단어가 저장되었을경우 단어 다 출력\n",
        "* 3을 선택했을 경우\n",
        "  * 저장되었습니다. (파일에 저장, words.txt.)\n",
        "* 4를 선택했을 경우\n",
        "  * 불러왔습니다 출력후 파일에서 읽어온다 words.txt\n",
        "* 5를 선택했을 경우 프로그램을 종료합니다\n",
        "  * 프로그램을 종료합니다.\n",
        "* 1~5까지의 숫자가 아닌경우\n",
        "  * 다시 입력하세요 출력\n",
        "\n",
        "> 단 프로그램은 클래스로 설계"
      ],
      "metadata": {
        "id": "GtOYOdhwY2ki"
      }
    },
    {
      "cell_type": "code",
      "source": [
        "class menu():\n",
        "  def __init__(self):\n",
        "    self.number = number\n",
        "    self.menu = menu\n",
        "\n",
        "  def menu_num(self):\n",
        "    if self.menu == 1:\n",
        "      register()\n",
        "    elif self.menu == 2:\n",
        "      w_print()\n",
        "    elif self.menu == 3:\n",
        "      save()\n",
        "    elif self.menu == 4:\n",
        "      take()\n",
        "    elif self.menu == 5:\n",
        "      quit()\n",
        "    else:\n",
        "      continue\n"
      ],
      "metadata": {
        "colab": {
          "base_uri": "https://localhost:8080/",
          "height": 111
        },
        "id": "hAGw0taAbcq_",
        "outputId": "b46f6db4-1156-442d-d0fb-dcf6120b5127"
      },
      "execution_count": null,
      "outputs": [
        {
          "output_type": "error",
          "ename": "SyntaxError",
          "evalue": "expected ':' (<ipython-input-3-0ff88d5a8753>, line 8)",
          "traceback": [
            "\u001b[0;36m  File \u001b[0;32m\"<ipython-input-3-0ff88d5a8753>\"\u001b[0;36m, line \u001b[0;32m8\u001b[0m\n\u001b[0;31m    def register()\u001b[0m\n\u001b[0m                  ^\u001b[0m\n\u001b[0;31mSyntaxError\u001b[0m\u001b[0;31m:\u001b[0m expected ':'\n"
          ]
        }
      ]
    },
    {
      "cell_type": "code",
      "source": [
        "class Word:\n",
        "  def __init__(self):\n",
        "    self.menu = input('메뉴번호를 선택해주세요 \\n 1. 등록하기 \\n 2. 출력하기 \\n 3. 저장하기 \\n 4. 수정하기 \\n 5. 삭제하기 \\n 6. 종료하기 \\n ')\n",
        "\n",
        "  def register(self):\n",
        "    self.word = input('단어를 입력해주세요 :').strip()\n",
        "    self.mean = input('의미를 입력해주세요 :').strip()\n",
        "    self.level = input('레벨를 입력해주세요 :').strip()\n",
        "\n",
        "    sets = self.word+'/'+self.mean+'/'+self.level\n",
        "\n",
        "    self.take()\n",
        "\n",
        "    if sets in text_list:\n",
        "      print('중복단어입니다')\n",
        "    else:\n",
        "      put_list.append(sets)\n",
        "      print('등록되었습니다.')\n",
        "\n",
        "  def w_print(self):\n",
        "    if len(put_list) == 0:\n",
        "      print('저장대기중인 단어가 없습니다.')\n",
        "    else:\n",
        "      print('저장대기 단어')\n",
        "      for i in range(len(put_list)):\n",
        "        last = put_list[i].split('/')\n",
        "        print(f'영어 : {last[0]} 의미 : {last[1]} 레벨 : {last[2]}')\n",
        "    if len(text_list) == 0:\n",
        "      print('불려온 단어가 없습니다.')\n",
        "    else:\n",
        "      print('불려온 단어')\n",
        "      for i in range(len(text_list)):\n",
        "        last = text_list[i].split('/')\n",
        "        print(f'영어 : {last[0]} 의미 : {last[1]} 레벨 : {last[2]}')\n",
        "\n",
        "  def save(self):\n",
        "    global put_list\n",
        "    print(f'저장리스트 : {put_list}')\n",
        "    file = open('words.txt', 'at')\n",
        "    for i in range(len(put_list)):\n",
        "      file.write(put_list[i] + '\\n')\n",
        "    file.close()\n",
        "    print('저장되었습니다.')\n",
        "    put_list = []\n",
        "\n",
        "  def take(self):\n",
        "    file = open('words.txt', 'at')\n",
        "    file.close\n",
        "    with open('words.txt', 'r') as f:\n",
        "      while True:\n",
        "          line = f.readline()\n",
        "          if not line:\n",
        "              break\n",
        "          if len(line.strip()) != 0:\n",
        "              text_list.append(line.strip())\n",
        "    # print('불러오기 작업완료 되었습니다.')\n",
        "\n",
        "\n",
        "  def modi(self):\n",
        "    global text_list\n",
        "    text_list = []\n",
        "    a = True\n",
        "    self.word = input('수정할 단어를 입력해주세요').strip()\n",
        "    self.take()\n",
        "    for i in range(len(text_list)):\n",
        "      if self.word == text_list[i].split('/')[0]:\n",
        "        self.mean = input('수정할 의미를 입력해주세요').strip()\n",
        "        self.level = input('수정할 레벨을 입력해주세요').strip()\n",
        "        text_list.remove(text_list[i])\n",
        "        # sets = self.word+'/'+self.mean+'/'+self.level\n",
        "        text_list.append(self.word+'/'+self.mean+'/'+self.level)\n",
        "        file = open('words.txt', 'w')\n",
        "        for j in range(len(text_list)):\n",
        "          file.write(text_list[j] + '\\n')\n",
        "        file.close()\n",
        "        print('수정작업이 완료되었습니다.')\n",
        "        a = False\n",
        "        break\n",
        "    if a :\n",
        "      print('해당 단어가 존재하지 않습니다. 등록을 진행해주세요')\n",
        "\n",
        "\n",
        "  def delete(self):\n",
        "    global text_list\n",
        "    text_list = []\n",
        "    self.word = input('삭제할 단어를 입력해주세요').strip()\n",
        "    self.take()\n",
        "    for i in range(len(text_list)):\n",
        "      if self.word == text_list[i].split('/')[0]:\n",
        "        text_list.remove(text_list[i])\n",
        "        file = open('words.txt', 'w')\n",
        "        for j in range(len(text_list)):\n",
        "          file.write(text_list[j] + '\\n')\n",
        "        file.close()\n",
        "        break\n",
        "    print('삭제작업이 완료되었습니다.')\n",
        "\n",
        "  def quit(self):\n",
        "    print('프로그램을 종료합니다.')\n",
        "    global con\n",
        "    con = False\n",
        "    return con\n",
        "\n",
        "  def menu_num(self):\n",
        "    global text_list\n",
        "    global put_list\n",
        "    text_list = []\n",
        "    self.take()\n",
        "    if self.menu == '1':\n",
        "      self.register()\n",
        "    elif self.menu == '2':\n",
        "      self.w_print()\n",
        "    elif self.menu == '3':\n",
        "      self.save()\n",
        "      put_list = []\n",
        "    elif self.menu == '4':\n",
        "      self.modi()\n",
        "    elif self.menu == '5':\n",
        "      self.delete()\n",
        "    elif self.menu == '6':\n",
        "      self.quit()\n",
        "    else:\n",
        "      print('메뉴 번호를 다시 입력해주세요.')"
      ],
      "metadata": {
        "id": "tfAmhHQJaqiY"
      },
      "execution_count": null,
      "outputs": []
    },
    {
      "cell_type": "code",
      "source": [
        "text_list = []\n",
        "put_list = []\n",
        "con = True\n",
        "while con:\n",
        "  word = Word()\n",
        "  word.menu_num()"
      ],
      "metadata": {
        "colab": {
          "base_uri": "https://localhost:8080/"
        },
        "id": "uivHrbFccCyj",
        "outputId": "776cc009-83ad-4ab4-9984-ac214e6c40cb"
      },
      "execution_count": null,
      "outputs": [
        {
          "output_type": "stream",
          "name": "stdout",
          "text": [
            "메뉴번호를 선택해주세요 \n",
            " 1. 등록하기 \n",
            " 2. 출력하기 \n",
            " 3. 저장하기 \n",
            " 4. 수정하기 \n",
            " 5. 삭제하기 \n",
            " 6. 종료하기 \n",
            " 2\n",
            "저장대기중인 단어가 없습니다.\n",
            "불려온 단어\n",
            "영어 : 2 의미 : 2 레벨 : 2\n",
            "영어 : 3 의미 : 3 레벨 : 3\n",
            "메뉴번호를 선택해주세요 \n",
            " 1. 등록하기 \n",
            " 2. 출력하기 \n",
            " 3. 저장하기 \n",
            " 4. 수정하기 \n",
            " 5. 삭제하기 \n",
            " 6. 종료하기 \n",
            " 4\n",
            "수정할 단어를 입력해주세요4\n",
            "해당 단어가 존재하지 않습니다. 등록을 진행해주세요\n",
            "메뉴번호를 선택해주세요 \n",
            " 1. 등록하기 \n",
            " 2. 출력하기 \n",
            " 3. 저장하기 \n",
            " 4. 수정하기 \n",
            " 5. 삭제하기 \n",
            " 6. 종료하기 \n",
            " 6\n",
            "프로그램을 종료합니다.\n"
          ]
        }
      ]
    },
    {
      "cell_type": "code",
      "source": [
        "# 강사님 답\n",
        "wordList = []\n",
        "filename = 'words.txt'"
      ],
      "metadata": {
        "id": "duxLe_9LpMIB"
      },
      "execution_count": null,
      "outputs": []
    },
    {
      "cell_type": "code",
      "source": [
        "class Word:\n",
        "  def __init__(self, eng, kor, lev = 1):\n",
        "    self.eng = eng\n",
        "    self.kor = kor\n",
        "    self.lev = lev\n",
        "  def setEng(self, eng):\n",
        "    self.eng = eng\n",
        "  def getEng(self):\n",
        "    return self.eng\n",
        "  def setKor(self, kor):\n",
        "    self.kor = kor\n",
        "  def getKor(self):\n",
        "    return self.kor\n",
        "  def setLev(self, lev):\n",
        "    self.lev = lev\n",
        "  def getLev(self):\n",
        "    return self.lev"
      ],
      "metadata": {
        "id": "h1NxOeQC7clG"
      },
      "execution_count": null,
      "outputs": []
    },
    {
      "cell_type": "code",
      "source": [
        "class WordService:\n",
        "  def insertWord(self):\n",
        "    eng = input('단어를 입력하세요 : ')\n",
        "    kor = input('뜻을 입력하세요 : ')\n",
        "    lev = input('레벨을 입력하세요 : ')\n",
        "    word = Word(eng, kor, lev)\n",
        "    wordList.append(word)\n",
        "    print('등록되었습니다.')\n",
        "  def printAll(self):\n",
        "    for data in wordList:\n",
        "      print(data.getEng() + ' : ' + data.getKor() + ' (레벨 ' + data.getLev() + ')' )\n",
        "  def saveAll(self):\n",
        "    with open(filename, 'w') as f:\n",
        "      for data in wordList:\n",
        "        f.write(f'{data.getEng()},{data.getKor()},{data.getLev()}\\n')\n",
        "      print('파일에 저장했습니다.')\n",
        "  def loadData(self):\n",
        "    file = open(filename, 'wt')\n",
        "    file.close\n",
        "    with open(filename, 'r') as f:\n",
        "      while True:\n",
        "        line = f.readline()\n",
        "        if line:\n",
        "          data = line.strip().split(',')\n",
        "          wordList.append(Word(data[0], data[1], data[2]))\n",
        "        else:\n",
        "          break\n",
        "  def modify(self):\n",
        "    con = True\n",
        "    eng = input('수정하고싶은 단어를 입력하세요 : ')\n",
        "    for data in wordList:\n",
        "      if eng == data.getEng():\n",
        "        kor = input('수정할 뜻을 입력하세요 : ')\n",
        "        lev = input('수정할 레벨을 입력하세요 : ')\n",
        "        data.setKor(kor)\n",
        "        data.setLev(lev)\n",
        "        print('수정이 완료되었습니다')\n",
        "        con = False\n",
        "        break\n",
        "    if con:\n",
        "      print('해당 단어가 존재하지않습니다.')\n",
        "\n",
        "  def delete(self):\n",
        "    eng = input('삭제하고싶은 단어를 입력하세요 : ')\n",
        "    for data in wordList:\n",
        "      if eng == data.getEng():\n",
        "        wordList.remove(data)\n",
        "        print('삭제가 완료되었습니다')\n",
        "        con = False\n",
        "        break\n",
        "    if con:\n",
        "      print('해당 단어가 존재하지않습니다.')"
      ],
      "metadata": {
        "id": "PrM0BBKW7coM"
      },
      "execution_count": null,
      "outputs": []
    },
    {
      "cell_type": "code",
      "source": [
        "class Menu:\n",
        "  def __init__(self):\n",
        "    self.service = WordService()\n",
        "  def run(self):\n",
        "    while True:\n",
        "      try :\n",
        "        menu = int(input('1.등록하기 2.출력하기 3.저장하기 4.수정하기 5.삭제하기 6.종료하기'))\n",
        "        self.service.loadData()\n",
        "        if menu == 1:\n",
        "          self.service.insertWord()\n",
        "        elif menu == 2:\n",
        "          self.service.printAll()\n",
        "        elif menu == 3:\n",
        "          self.service.saveAll()\n",
        "        elif menu == 4:\n",
        "          self.service.modify()\n",
        "        elif menu == 5:\n",
        "          self.service.delete()\n",
        "        elif menu == 6:\n",
        "          print('프로그램을 종료합니다')\n",
        "          break\n",
        "      except Exception as e:\n",
        "        print(e)\n",
        "        print('다시 입력하세요!')"
      ],
      "metadata": {
        "id": "HVm3UU5o7crR"
      },
      "execution_count": null,
      "outputs": []
    },
    {
      "cell_type": "code",
      "source": [
        "start = Menu()\n",
        "start.run()"
      ],
      "metadata": {
        "id": "_rdiMiKG7jWF",
        "colab": {
          "base_uri": "https://localhost:8080/"
        },
        "outputId": "a124f801-6816-42d3-b566-2619a52501ef"
      },
      "execution_count": null,
      "outputs": [
        {
          "output_type": "stream",
          "name": "stdout",
          "text": [
            "1.등록하기 2.출력하기 3.저장하기 4.수정하기 5.삭제하기 6.종료하기1\n",
            "단어를 입력하세요 : 1\n",
            "뜻을 입력하세요 : 1\n",
            "레벨을 입력하세요 : 1\n",
            "등록되었습니다.\n",
            "1.등록하기 2.출력하기 3.저장하기 4.수정하기 5.삭제하기 6.종료하기1\n",
            "단어를 입력하세요 : 2\n",
            "뜻을 입력하세요 : 2\n",
            "레벨을 입력하세요 : 2\n",
            "등록되었습니다.\n",
            "1.등록하기 2.출력하기 3.저장하기 4.수정하기 5.삭제하기 6.종료하기3\n",
            "파일에 저장했습니다.\n",
            "1.등록하기 2.출력하기 3.저장하기 4.수정하기 5.삭제하기 6.종료하기2\n",
            "1 : 1 (레벨 1)\n",
            "2 : 2 (레벨 2)\n",
            "1.등록하기 2.출력하기 3.저장하기 4.수정하기 5.삭제하기 6.종료하기4\n",
            "수정하고싶은 단어를 입력하세요 : 1\n",
            "수정할 뜻을 입력하세요 : 2\n",
            "수정할 레벨을 입력하세요 : 3\n",
            "수정이 완료되었습니다\n",
            "1.등록하기 2.출력하기 3.저장하기 4.수정하기 5.삭제하기 6.종료하기2\n",
            "1 : 2 (레벨 3)\n",
            "2 : 2 (레벨 2)\n",
            "1.등록하기 2.출력하기 3.저장하기 4.수정하기 5.삭제하기 6.종료하기5\n",
            "삭제하고싶은 단어를 입력하세요 : 1\n",
            "삭제가 완료되었습니다\n",
            "1.등록하기 2.출력하기 3.저장하기 4.수정하기 5.삭제하기 6.종료하기2\n",
            "2 : 2 (레벨 2)\n",
            "1.등록하기 2.출력하기 3.저장하기 4.수정하기 5.삭제하기 6.종료하기6\n",
            "프로그램을 종료합니다\n"
          ]
        }
      ]
    },
    {
      "cell_type": "markdown",
      "source": [
        "### 과제\n",
        "* 수정하기 기능 추가\n",
        "  * 수정할 단어를 선택하세요 (없으면 없다고 출력 or apple의 뜻을 입력하세요 -> 등록하기 -> 수정되었습니다)\n",
        "* 삭제하기\n",
        "  * 삭제할 단어를 선택하세요\n",
        "    * 없으면 없다고 출력 혹은 삭제되었습니다 출력\n",
        "* 불러오기 메뉴 변경\n",
        "  * 메뉴 4번을 삭제\n",
        "  * 프로그램 시작시 기존의 단어장 파일이 존재하는지 확인하고 있으면 그 파일에 있는 데이터를 확인하고 없으면 스킵"
      ],
      "metadata": {
        "id": "GWsmRXdfvzB9"
      }
    },
    {
      "cell_type": "code",
      "source": [],
      "metadata": {
        "id": "UpzmSc_Pw6jJ"
      },
      "execution_count": null,
      "outputs": []
    }
  ]
}