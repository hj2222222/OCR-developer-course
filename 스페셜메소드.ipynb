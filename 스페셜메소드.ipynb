{
  "nbformat": 4,
  "nbformat_minor": 0,
  "metadata": {
    "colab": {
      "provenance": [],
      "authorship_tag": "ABX9TyP1EFYGaczjChshE0hs4MOC",
      "include_colab_link": true
    },
    "kernelspec": {
      "name": "python3",
      "display_name": "Python 3"
    },
    "language_info": {
      "name": "python"
    }
  },
  "cells": [
    {
      "cell_type": "markdown",
      "metadata": {
        "id": "view-in-github",
        "colab_type": "text"
      },
      "source": [
        "<a href=\"https://colab.research.google.com/github/hj2222222/OCR-developer-course/blob/main/%EC%8A%A4%ED%8E%98%EC%85%9C%EB%A9%94%EC%86%8C%EB%93%9C.ipynb\" target=\"_parent\"><img src=\"https://colab.research.google.com/assets/colab-badge.svg\" alt=\"Open In Colab\"/></a>"
      ]
    },
    {
      "cell_type": "markdown",
      "source": [
        "# **1. 스페셜 메서드**\n",
        "파이썬의 스페셜 메서드 (또는 매직 메서드라고도 불림)는 더블 언더스코어(__)로 시작하고 끝나는 메서드 이름을 갖습니다. 이 메서드들은 특정 구문이나 내장 함수를 사용할 때 파이썬 인터프리터에 의해 자동으로 호출됩니다.\n",
        "\n",
        "예를 들어, 객체에 대해 + 연산자를 사용하면 해당 객체의 __add__ 메서드가 호출됩니다. 또는 len() 함수를 사용하면 __len__ 메서드가 호출됩니다.\n",
        "\n",
        "\n",
        "\n",
        "1. __init__ : 객체 초기화 메서드\n",
        "\n",
        "2. __str__ : 객체를 문자열로 표현하는 메서드. print() 함수나 str() 함수를 사용할 때 호출됩니다.\n",
        "\n",
        "3. __add__ : + 연산자를 사용할 때 호출되는 메서드\n",
        "\n",
        "4. __len__ : len() 함수를 사용할 때 호출되는 메서드\n",
        "\n",
        "5. __getitem__ : 인덱싱을 사용할 때 호출되는 메서드\n",
        "\n",
        "6. __call__ : 객체를 함수처럼 호출할 때 사용되는 메서드"
      ],
      "metadata": {
        "id": "E_uXyZ5rIljT"
      }
    },
    {
      "cell_type": "code",
      "source": [
        "class Book:\n",
        "    def __init__(self, title):\n",
        "        self.title = title\n",
        "\n",
        "book = Book(\"미친듯이 재밌는 파이썬\")\n",
        "print(book)\n",
        "\n",
        "class Book:\n",
        "    def __init__(self, title):\n",
        "        self.title = title\n",
        "\n",
        "    def __str__(self):\n",
        "        return self.title\n",
        "\n",
        "book = Book(\"미친듯이 재밌는 파이썬\")\n",
        "print(book)"
      ],
      "metadata": {
        "colab": {
          "base_uri": "https://localhost:8080/"
        },
        "id": "nahwX3RxIwbw",
        "outputId": "4dc9584d-23fa-47f0-a489-4a221e19ba2c"
      },
      "execution_count": 1,
      "outputs": [
        {
          "output_type": "stream",
          "name": "stdout",
          "text": [
            "<__main__.Book object at 0x7b6200c713c0>\n",
            "미친듯이 재밌는 파이썬\n"
          ]
        }
      ]
    },
    {
      "cell_type": "code",
      "source": [
        "class Calc:\n",
        "    def __init__(self, value):\n",
        "        self.value = value\n",
        "\n",
        "    def __add__(self, other):\n",
        "        return self.value + other.value\n",
        "\n",
        "num1 = Calc(5)\n",
        "num2 = Calc(10)\n",
        "result = num1 + num2\n",
        "print(result)"
      ],
      "metadata": {
        "colab": {
          "base_uri": "https://localhost:8080/"
        },
        "id": "JbRLqyGMIyU0",
        "outputId": "f44206a2-2365-43a2-d4c8-c36707e14dde"
      },
      "execution_count": 2,
      "outputs": [
        {
          "output_type": "stream",
          "name": "stdout",
          "text": [
            "15\n"
          ]
        }
      ]
    },
    {
      "cell_type": "code",
      "source": [
        "class Queue:\n",
        "    def __init__(self):\n",
        "        self.items = [1,2,3,4,5,6,8,9,7]\n",
        "\n",
        "    def __len__(self):\n",
        "        return len(self.items)\n",
        "\n",
        "queue = Queue()\n",
        "print(len(queue))"
      ],
      "metadata": {
        "colab": {
          "base_uri": "https://localhost:8080/"
        },
        "id": "rD3bT6c_Izek",
        "outputId": "6bc001fd-5e5d-4d7e-9aa8-626ab9ac02d3"
      },
      "execution_count": 1,
      "outputs": [
        {
          "output_type": "stream",
          "name": "stdout",
          "text": [
            "9\n"
          ]
        }
      ]
    },
    {
      "cell_type": "code",
      "source": [
        "class Point:\n",
        "    def __init__(self, x, y):\n",
        "        self.x = x\n",
        "        self.y = y\n",
        "\n",
        "    def __getitem__(self, index):\n",
        "        if index == 0:\n",
        "            return self.x\n",
        "        elif index == 1:\n",
        "            return self.y\n",
        "        else:\n",
        "            return -1\n",
        "\n",
        "p1 = Point(3, 4)\n",
        "print(p1[0], p1[1], p1[100])"
      ],
      "metadata": {
        "colab": {
          "base_uri": "https://localhost:8080/"
        },
        "id": "8dLf3iRmI1K6",
        "outputId": "95251927-eb04-4bd1-bffe-c7770498be49"
      },
      "execution_count": 4,
      "outputs": [
        {
          "output_type": "stream",
          "name": "stdout",
          "text": [
            "3 4 -1\n"
          ]
        }
      ]
    },
    {
      "cell_type": "code",
      "source": [
        "class CallableObject:\n",
        "    def __call__(self, *args, **kwargs): # * 는 값을 그냥 여러개 **는 ? = ? 형식 변수할당식으로 넣어주면 딕셔너리로 들어감.\n",
        "        print(f\"Called with arguments: {args} and keyword arguments: {kwargs}\")\n",
        "\n",
        "callable_obj = CallableObject()\n",
        "callable_obj(1, 2, 3, a=\"A\", b=\"B\")"
      ],
      "metadata": {
        "colab": {
          "base_uri": "https://localhost:8080/"
        },
        "id": "0KkUx1YyI3Bb",
        "outputId": "739cd260-6a77-4916-884f-1e13834031ef"
      },
      "execution_count": 5,
      "outputs": [
        {
          "output_type": "stream",
          "name": "stdout",
          "text": [
            "Called with arguments: (1, 2, 3) and keyword arguments: {'a': 'A', 'b': 'B'}\n"
          ]
        }
      ]
    },
    {
      "cell_type": "markdown",
      "source": [
        "### 과제\n",
        "주민등록번호 유효성 검사 프로그램을 만들어보자\n",
        "* 0 0 1 0 1 1 - 3 0 6 8 5 1 8\n",
        "* 2 3 4 5 6 7   8 9 2 3 4 5 를 곱하고 더함 (맨마지막 제외)\n",
        "  * 0 0 4 0 6 7 24 0 12 24 20 5 = 102\n",
        "* 11로 나눈 나머지값을 구함\n",
        "  * 102 % 11 = 3\n",
        "* 11에서 위의 값을 뺀다\n",
        "  * 11 - 3 = 8\n",
        "* 위 결과가 두자리인 경우 10으로 나눈 나머지를 구함\n",
        "* 결과값이 마지막 주민등록번호와 일치하면 유효한 주민등록번호\n",
        "* 클래스로 설계하고 객체를 이용하여 프로그램을 동작"
      ],
      "metadata": {
        "id": "MYU7sWvaI4_V"
      }
    },
    {
      "cell_type": "code",
      "source": [
        "class People():\n",
        "  def __init__(self,name, age ,number):\n",
        "    self.name = name\n",
        "    self.age = age\n",
        "    self.number = number\n",
        "\n",
        "  def test(self):\n",
        "    num = [2,3,4,5,6,7,8,9,2,3,4,5]\n",
        "    sum = 0\n",
        "    last = 0\n",
        "    jumin = self.number\n",
        "    if '-' in jumin:\n",
        "      # self.number = self.number.replace('-','')\n",
        "      self.number = self.number[:6] + self.number[7:]\n",
        "    for i in range(len(num)):\n",
        "      sum += (num[i] * int(self.number[i]))\n",
        "    cnt = 11 - (sum % 11)\n",
        "    if cnt // 10 == 1:\n",
        "      last = cnt % 10\n",
        "    else:\n",
        "      last = cnt\n",
        "    if  last == int(self.number[-1]):\n",
        "      print(f'이름 : {self.name} 나이 : {self.age}세 검사결과 : 통과')\n",
        "      return True\n",
        "    else:\n",
        "      print(f'이름 : {self.name} 나이 : {self.age}세 검사결과 : 기각')\n",
        "      return False\n",
        "\n",
        "\n",
        "\n",
        "name = input('이름을 입력해주세요. : ')\n",
        "age = input('나이를 입력해주세요. : ')\n",
        "number = input('주민등록번호를 입력해주세요. : ')\n",
        "\n",
        "my = People(name,age,number)\n",
        "my.test()"
      ],
      "metadata": {
        "colab": {
          "base_uri": "https://localhost:8080/"
        },
        "id": "SHYjJSHIf1M6",
        "outputId": "87e70a76-6fee-487d-b0b5-b19fc06d374a"
      },
      "execution_count": 31,
      "outputs": [
        {
          "output_type": "stream",
          "name": "stdout",
          "text": [
            "이름을 입력해주세요. : 12312\n",
            "나이를 입력해주세요. : 123123\n",
            "주민등록번호를 입력해주세요. : 001011-3068518\n",
            "이름 : 12312 나이 : 123123세 검사결과 : 통과\n"
          ]
        },
        {
          "output_type": "execute_result",
          "data": {
            "text/plain": [
              "True"
            ]
          },
          "metadata": {},
          "execution_count": 31
        }
      ]
    },
    {
      "cell_type": "code",
      "source": [
        "'-' in '980822-1045121'"
      ],
      "metadata": {
        "colab": {
          "base_uri": "https://localhost:8080/"
        },
        "id": "67TUORCggAiu",
        "outputId": "d8de9d00-3932-4d40-9c23-8f7bb6865e52"
      },
      "execution_count": 22,
      "outputs": [
        {
          "output_type": "execute_result",
          "data": {
            "text/plain": [
              "True"
            ]
          },
          "metadata": {},
          "execution_count": 22
        }
      ]
    },
    {
      "cell_type": "code",
      "source": [
        "'001011-3068518'.replace('-','')"
      ],
      "metadata": {
        "colab": {
          "base_uri": "https://localhost:8080/",
          "height": 35
        },
        "id": "9HfdiEEkmKAO",
        "outputId": "cf0509e9-d311-41ed-fe5d-a95813497937"
      },
      "execution_count": 26,
      "outputs": [
        {
          "output_type": "execute_result",
          "data": {
            "text/plain": [
              "'0010113068518'"
            ],
            "application/vnd.google.colaboratory.intrinsic+json": {
              "type": "string"
            }
          },
          "metadata": {},
          "execution_count": 26
        }
      ]
    },
    {
      "cell_type": "code",
      "source": [
        "class People():\n",
        "  def __init__(self,name, age ,number):\n",
        "    self.name = name\n",
        "    self.age = age\n",
        "    self.number = number\n",
        "    self.testnumber = [2,3,4,5,6,7,8,9,2,3,4,5]\n",
        "\n",
        "  def string_check(self):\n",
        "    if '-' in self.number:\n",
        "      return True\n",
        "    else:\n",
        "      return False\n",
        "\n",
        "  def delete(self):\n",
        "    # self.number = self.number.replace('-','')\n",
        "    self.number = self.number[:6] + self.number[7:]\n",
        "    return self.number\n",
        "\n",
        "  def lentest(self):\n",
        "    if len(self.number) == 13:\n",
        "      return True\n",
        "    else:\n",
        "      return False\n",
        "\n",
        "  def add(self):\n",
        "    sum = 0\n",
        "    for i in range(len(self.testnumber)):\n",
        "        sum += (self.testnumber[i] * int(self.number[i]))\n",
        "    return sum\n",
        "\n",
        "  def div(self,number1,number2):\n",
        "    global cnt\n",
        "    cnt = number1 % number2\n",
        "    return cnt\n",
        "\n",
        "  def check(self,last):\n",
        "    if last == int(self.number[-1]):\n",
        "      return True\n",
        "    else:\n",
        "      return False\n",
        "\n",
        "  def test(self):\n",
        "    sum = 0\n",
        "    last = 0\n",
        "    cnt = 0\n",
        "    if self.string_check():\n",
        "      self.delete()\n",
        "    if self.lentest():\n",
        "      sum = self.add()\n",
        "      cnt = self.div(sum,11)\n",
        "      if cnt // 10 == 1:\n",
        "        last = 11 - self.div(cnt,10)\n",
        "      else:\n",
        "        last = 11 - cnt\n",
        "      if  self.check(last):\n",
        "        print(f'이름 : {self.name} 나이 : {self.age}세 검사결과 : 통과')\n",
        "        return True\n",
        "      else:\n",
        "        print(f'이름 : {self.name} 나이 : {self.age}세 검사결과 : 기각')\n",
        "        return False\n",
        "    else:\n",
        "      print('주민등록번호를 적게 입력하셨습니다.')\n",
        "\n",
        "\n",
        "\n",
        "name = input('이름을 입력해주세요. : ')\n",
        "age = input('나이를 입력해주세요. : ')\n",
        "number = input('주민등록번호를 입력해주세요. : ')\n",
        "\n",
        "my = People(name,age,number)\n",
        "my.test()"
      ],
      "metadata": {
        "colab": {
          "base_uri": "https://localhost:8080/"
        },
        "id": "z7nl1rEonwm0",
        "outputId": "6e0d593c-cf21-4225-d40d-20eb4d7c5591"
      },
      "execution_count": 48,
      "outputs": [
        {
          "output_type": "stream",
          "name": "stdout",
          "text": [
            "이름을 입력해주세요. : dlgurwp\n",
            "나이를 입력해주세요. : sdfsf\n",
            "주민등록번호를 입력해주세요. : 001011-3068518\n",
            "이름 : dlgurwp 나이 : sdfsf세 검사결과 : 통과\n"
          ]
        },
        {
          "output_type": "execute_result",
          "data": {
            "text/plain": [
              "True"
            ]
          },
          "metadata": {},
          "execution_count": 48
        }
      ]
    },
    {
      "cell_type": "code",
      "source": [
        "1"
      ],
      "metadata": {
        "id": "Rw7CKbQTrRbX"
      },
      "execution_count": null,
      "outputs": []
    }
  ]
}